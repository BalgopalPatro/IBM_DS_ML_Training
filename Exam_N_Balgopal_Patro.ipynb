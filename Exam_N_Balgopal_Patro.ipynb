{
 "cells": [
  {
   "cell_type": "code",
   "execution_count": 1,
   "metadata": {},
   "outputs": [],
   "source": [
    "import numpy as np;"
   ]
  },
  {
   "cell_type": "markdown",
   "metadata": {},
   "source": [
    "### 1.Create a 4X2 integer array and Prints its attributes     OR  How to get the positions where elements of two arrays match? "
   ]
  },
  {
   "cell_type": "code",
   "execution_count": 2,
   "metadata": {},
   "outputs": [
    {
     "name": "stdout",
     "output_type": "stream",
     "text": [
      "The Array is [[0 1]\n",
      " [2 3]\n",
      " [4 5]\n",
      " [6 7]]\n",
      "Shape : (4, 2)\n",
      "Maximum :  7\n",
      "Minimum :  0\n",
      "index of maximum :  7\n",
      "index of minimum :  0\n",
      "Dimensions : 2\n",
      "Base : [0 1 2 3 4 5 6 7]\n"
     ]
    }
   ],
   "source": [
    "x = np.arange(8).reshape(4,2)\n",
    "print(\"The Array is\",x)\n",
    "print(\"Shape :\",x.shape)\n",
    "print(\"Maximum : \",x.max())\n",
    "print(\"Minimum : \",x.min())\n",
    "print(\"index of maximum : \",x.argmax())\n",
    "print(\"index of minimum : \",x.argmin())\n",
    "print(\"Dimensions :\",x.ndim)\n",
    "print(\"Base :\",x.base)"
   ]
  },
  {
   "cell_type": "markdown",
   "metadata": {},
   "source": [
    "### OR"
   ]
  },
  {
   "cell_type": "code",
   "execution_count": 3,
   "metadata": {},
   "outputs": [
    {
     "name": "stdout",
     "output_type": "stream",
     "text": [
      "(array([1, 3, 5], dtype=int32),)\n"
     ]
    }
   ],
   "source": [
    "a = np.array([1,2,3,4,5,6])\n",
    "b = np.array([0,2,6,4,10,6])\n",
    "print(np.where(a==b))"
   ]
  },
  {
   "cell_type": "markdown",
   "metadata": {},
   "source": [
    "### 2. Create a 5X2 integer array from a range between 100 to 300 such that the difference between each  element is 20. "
   ]
  },
  {
   "cell_type": "code",
   "execution_count": 4,
   "metadata": {},
   "outputs": [
    {
     "name": "stdout",
     "output_type": "stream",
     "text": [
      "[[100 120]\n",
      " [140 160]\n",
      " [180 200]\n",
      " [220 240]\n",
      " [260 280]] (5, 2)\n"
     ]
    }
   ],
   "source": [
    "a = np.arange(100,300,20).reshape(5,2)\n",
    "print(a,a.shape)"
   ]
  },
  {
   "cell_type": "markdown",
   "metadata": {},
   "source": [
    "### 3. Following is the given numpy array return array of odd rows and even columns import numpy sampleArray = numpy.array([[3 ,6, 9, 12], [15 ,18, 21, 24],  [27 ,30, 33, 36], [39 ,42, 45, 48], [51 ,54, 57, 60]]) "
   ]
  },
  {
   "cell_type": "code",
   "execution_count": 5,
   "metadata": {},
   "outputs": [
    {
     "name": "stdout",
     "output_type": "stream",
     "text": [
      "[[ 3  6  9 12]\n",
      " [15 18 21 24]\n",
      " [27 30 33 36]\n",
      " [39 42 45 48]\n",
      " [51 54 57 60]]\n",
      "If we start numbering from 1\n",
      "[[ 6 12]\n",
      " [30 36]\n",
      " [54 60]]\n",
      "If we start numbering from 0\n",
      "[[15 21]\n",
      " [39 45]]\n"
     ]
    }
   ],
   "source": [
    "import numpy \n",
    "sampleArray = numpy.array([[3 ,6, 9, 12], [15 ,18, 21, 24],  [27 ,30, 33, 36], [39 ,42, 45, 48], [51 ,54, 57, 60]])\n",
    "print(sampleArray)\n",
    "print(\"If we start numbering from 1\")\n",
    "print(sampleArray[0::2,1::2])\n",
    "print(\"If we start numbering from 0\")\n",
    "print(sampleArray[1::2,0::2])"
   ]
  },
  {
   "cell_type": "markdown",
   "metadata": {},
   "source": [
    "### 4.Write a NumPy program to create an array of 5 zeros, 5 ones, 5 fives."
   ]
  },
  {
   "cell_type": "code",
   "execution_count": 6,
   "metadata": {},
   "outputs": [
    {
     "name": "stdout",
     "output_type": "stream",
     "text": [
      "[0. 0. 0. 0. 0. 1. 1. 1. 1. 1. 5. 5. 5. 5. 5.]\n"
     ]
    }
   ],
   "source": [
    "zero = np.zeros(5)\n",
    "ones = np.ones(5)\n",
    "fives = ones*5\n",
    "x = np.concatenate((zero,ones,fives))\n",
    "print(x)"
   ]
  },
  {
   "cell_type": "markdown",
   "metadata": {},
   "source": [
    "### 5.Write a NumPy program to create a 4X5 array using and iterate over it."
   ]
  },
  {
   "cell_type": "code",
   "execution_count": 7,
   "metadata": {},
   "outputs": [
    {
     "name": "stdout",
     "output_type": "stream",
     "text": [
      "[[ 0  1  2  3  4]\n",
      " [ 5  6  7  8  9]\n",
      " [10 11 12 13 14]\n",
      " [15 16 17 18 19]]\n",
      "0\n",
      "1\n",
      "2\n",
      "3\n",
      "4\n",
      "5\n",
      "6\n",
      "7\n",
      "8\n",
      "9\n",
      "10\n",
      "11\n",
      "12\n",
      "13\n",
      "14\n",
      "15\n",
      "16\n",
      "17\n",
      "18\n",
      "19\n"
     ]
    }
   ],
   "source": [
    "a = np.arange(20).reshape(4,5)\n",
    "print(a)\n",
    "for i in a:\n",
    "    for j in i:\n",
    "        print(j)"
   ]
  },
  {
   "cell_type": "markdown",
   "metadata": {},
   "source": [
    "### 6. Write a NumPy program to get the number of items, array dimensions, number of array dimensions and  the memory size of each element of a given array. "
   ]
  },
  {
   "cell_type": "code",
   "execution_count": 8,
   "metadata": {},
   "outputs": [
    {
     "name": "stdout",
     "output_type": "stream",
     "text": [
      "The Array is : [[ 10  20   1]\n",
      " [798  12  90]]\n",
      "The Dimentions : 2\n",
      "The Shape : (2, 3)\n",
      "The Size : 6\n",
      "Total Memory Size : 24\n",
      "Size of one element : 4.0\n",
      "Datatype : int32\n"
     ]
    }
   ],
   "source": [
    "x = np.array([10,20,1,798,12,90]).reshape(2,3)\n",
    "print(\"The Array is :\",x)\n",
    "print(\"The Dimentions :\",x.ndim)\n",
    "print(\"The Shape :\",x.shape)\n",
    "print(\"The Size :\",x.size)\n",
    "print(\"Total Memory Size :\",x.nbytes)\n",
    "print(\"Size of one element :\",x.nbytes / x.size)\n",
    "print(\"Datatype :\",x.dtype)"
   ]
  },
  {
   "cell_type": "markdown",
   "metadata": {},
   "source": [
    "### 7. Write a NumPy program to get the unique elements of an array. "
   ]
  },
  {
   "cell_type": "code",
   "execution_count": 9,
   "metadata": {},
   "outputs": [
    {
     "name": "stdout",
     "output_type": "stream",
     "text": [
      "The origional Array :  [ 1 12  2  4  3  5  6  1  2  5  2  2  5  0  4  5  0  3  7  3 12]\n",
      "The unique elements : [ 0  1  2  3  4  5  6  7 12]\n"
     ]
    }
   ],
   "source": [
    "x = np.array([1,12,2,4,3,5,6,1,2,5,2,2,5,0,4,5,0,3,7,3,12])\n",
    "print(\"The origional Array : \",x)\n",
    "print(\"The unique elements :\",np.unique(x))"
   ]
  },
  {
   "cell_type": "markdown",
   "metadata": {},
   "source": [
    "### 8.Write a NumPy program to create a contiguous flattened array. "
   ]
  },
  {
   "cell_type": "code",
   "execution_count": 10,
   "metadata": {},
   "outputs": [
    {
     "name": "stdout",
     "output_type": "stream",
     "text": [
      "Original array:\n",
      "[[10 20 30]\n",
      " [20 40 50]]\n",
      "New flattened array:\n",
      "[10 20 30 20 40 50]\n"
     ]
    }
   ],
   "source": [
    "x = np.array([[10, 20, 30], [20, 40, 50]])\n",
    "print(\"Original array:\")\n",
    "print(x)\n",
    "y = np.ravel(x)\n",
    "print(\"New flattened array:\")\n",
    "print(y)"
   ]
  },
  {
   "cell_type": "markdown",
   "metadata": {},
   "source": [
    "### 9.Write a NumPy program to change the data type of an array. "
   ]
  },
  {
   "cell_type": "code",
   "execution_count": 11,
   "metadata": {},
   "outputs": [
    {
     "name": "stdout",
     "output_type": "stream",
     "text": [
      "The Array is : [1.1 1.2 2.4 3.2 4.6 4.2 6.2]\n",
      "Datatype of x: float64\n",
      "Now the array is: [1 1 2 3 4 4 6]\n",
      "Datatype of x: int32\n"
     ]
    }
   ],
   "source": [
    "x = np.array([1.1,1.2,2.4,3.2,4.6,4.2,6.2])\n",
    "print(\"The Array is :\",x)\n",
    "print(\"Datatype of x:\",x.dtype)\n",
    "x = x.astype('i4')\n",
    "print(\"Now the array is:\",x)\n",
    "print(\"Datatype of x:\",x.dtype)"
   ]
  },
  {
   "cell_type": "markdown",
   "metadata": {},
   "source": [
    "### 10. Write a NumPy program to create a 2-D array whose diagonal equals [1,2,3,4] and 0's elsewhere. "
   ]
  },
  {
   "cell_type": "code",
   "execution_count": 12,
   "metadata": {},
   "outputs": [
    {
     "name": "stdout",
     "output_type": "stream",
     "text": [
      "[[1 0 0 0]\n",
      " [0 2 0 0]\n",
      " [0 0 3 0]\n",
      " [0 0 0 4]]\n"
     ]
    }
   ],
   "source": [
    "x = np.diag([1,2,3,4])\n",
    "print(x)"
   ]
  },
  {
   "cell_type": "markdown",
   "metadata": {},
   "source": [
    "### 11.Write a NumPy program to create an array of three column types (integer, float, character). "
   ]
  },
  {
   "cell_type": "code",
   "execution_count": 13,
   "metadata": {},
   "outputs": [
    {
     "name": "stdout",
     "output_type": "stream",
     "text": [
      "[(1, 1.01, b'A') (2, 2.02, b'B') (3, 3.03, b'C')]\n",
      "[('f0', '<i4'), ('f1', '<f4'), ('f2', 'S1')]\n"
     ]
    }
   ],
   "source": [
    "x = np.array([1,2,3],dtype=('i,f,c'))\n",
    "a = [(1, 1.01, \"A\"), (2, 2.02, \"B\"), (3, 3.03, \"C\")]\n",
    "x[:] = a\n",
    "print(x)\n",
    "print(x.dtype)"
   ]
  },
  {
   "cell_type": "markdown",
   "metadata": {},
   "source": [
    "### 12.Write a NumPy program to count the frequency of unique values in NumPy array. "
   ]
  },
  {
   "cell_type": "code",
   "execution_count": 14,
   "metadata": {},
   "outputs": [
    {
     "name": "stdout",
     "output_type": "stream",
     "text": [
      "The array is: [ 1 12  2  4  3  5  6  1  2  5  2  2  5  0  4  5  0  3  7  3 12]\n",
      "Frequency of unique values of the said array:\n",
      "2 times 0\n",
      "2 times 1\n",
      "4 times 2\n",
      "3 times 3\n",
      "2 times 4\n",
      "4 times 5\n",
      "1 times 6\n",
      "1 times 7\n",
      "2 times 12\n"
     ]
    }
   ],
   "source": [
    "x = np.array([1,12,2,4,3,5,6,1,2,5,2,2,5,0,4,5,0,3,7,3,12])\n",
    "print(\"The array is:\",x)\n",
    "elements, counts = np.unique(x, return_counts=True)\n",
    "print(\"Frequency of unique values of the said array:\")\n",
    "for i,j in zip(elements,counts):\n",
    "    print(\"{} times {}\".format(j,i))"
   ]
  },
  {
   "cell_type": "markdown",
   "metadata": {},
   "source": [
    "### 13.How to create a boolean array? "
   ]
  },
  {
   "cell_type": "code",
   "execution_count": 15,
   "metadata": {},
   "outputs": [
    {
     "name": "stdout",
     "output_type": "stream",
     "text": [
      "[ True False  True False  True]\n",
      "The Datatype : bool\n"
     ]
    }
   ],
   "source": [
    "x = np.array([True,False,True,False,True])\n",
    "print(x)\n",
    "print(\"The Datatype :\",x.dtype)"
   ]
  },
  {
   "cell_type": "markdown",
   "metadata": {},
   "source": [
    "### 14.How to replace items that satisfy a condition without affecting the original array? "
   ]
  },
  {
   "cell_type": "code",
   "execution_count": 16,
   "metadata": {},
   "outputs": [
    {
     "name": "stdout",
     "output_type": "stream",
     "text": [
      "[ 1  2  3  4  5  6  7  8  9 10 11 12 13 14 15 16 17 18 19 20]\n",
      "The evens will be replaced by 1 and odds are 0 \n",
      "[0 1 0 1 0 1 0 1 0 1 0 1 0 1 0 1 0 1 0 1]\n"
     ]
    }
   ],
   "source": [
    "x = np.arange(1,21)\n",
    "print(x)\n",
    "print(\"The evens will be replaced by 1 and odds are 0 \")\n",
    "print(np.where(x%2==0,1,0))"
   ]
  },
  {
   "cell_type": "markdown",
   "metadata": {},
   "source": [
    "### 15.How to remove from one array those items that exist in another?"
   ]
  },
  {
   "cell_type": "code",
   "execution_count": 17,
   "metadata": {},
   "outputs": [
    {
     "name": "stdout",
     "output_type": "stream",
     "text": [
      "x :  [ 1  3  5  7  9 11 13 15 17 19]\n",
      "y :  [ 1  4  7 10 13 16 19]\n",
      "After Removing the elements :\n",
      "x :  [ 3  5  9 11 15 17]\n"
     ]
    }
   ],
   "source": [
    "x = np.arange(1,21,2)\n",
    "y = np.arange(1,21,3)\n",
    "print(\"x : \",x)\n",
    "print(\"y : \",y)\n",
    "print(\"After Removing the elements :\")\n",
    "x = np.setdiff1d(x,y)\n",
    "print(\"x : \",x)"
   ]
  }
 ],
 "metadata": {
  "kernelspec": {
   "display_name": "Python 3",
   "language": "python",
   "name": "python3"
  },
  "language_info": {
   "codemirror_mode": {
    "name": "ipython",
    "version": 3
   },
   "file_extension": ".py",
   "mimetype": "text/x-python",
   "name": "python",
   "nbconvert_exporter": "python",
   "pygments_lexer": "ipython3",
   "version": "3.7.4"
  }
 },
 "nbformat": 4,
 "nbformat_minor": 2
}
