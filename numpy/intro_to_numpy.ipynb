{
 "cells": [
  {
   "cell_type": "code",
   "execution_count": 3,
   "metadata": {},
   "outputs": [],
   "source": [
    "import numpy as np"
   ]
  },
  {
   "cell_type": "code",
   "execution_count": 4,
   "metadata": {},
   "outputs": [
    {
     "name": "stdout",
     "output_type": "stream",
     "text": [
      "1.19.0\n"
     ]
    }
   ],
   "source": [
    "print(np.__version__)"
   ]
  },
  {
   "cell_type": "code",
   "execution_count": 5,
   "metadata": {},
   "outputs": [
    {
     "name": "stdout",
     "output_type": "stream",
     "text": [
      "[1 2 3 4]\n"
     ]
    },
    {
     "data": {
      "text/plain": [
       "1"
      ]
     },
     "execution_count": 5,
     "metadata": {},
     "output_type": "execute_result"
    }
   ],
   "source": [
    "a = np.array([1,2,3,4])\n",
    "print(a)\n",
    "a.ndim"
   ]
  },
  {
   "cell_type": "code",
   "execution_count": 6,
   "metadata": {},
   "outputs": [
    {
     "name": "stdout",
     "output_type": "stream",
     "text": [
      "[1 2 3 4]\n",
      "<class 'numpy.ndarray'>\n",
      "7\n"
     ]
    }
   ],
   "source": [
    "a = np.array((1,2,3,4))\n",
    "print(a)\n",
    "print(type(a))\n",
    "print(a[2]+a[3])"
   ]
  },
  {
   "cell_type": "code",
   "execution_count": 7,
   "metadata": {},
   "outputs": [
    {
     "data": {
      "text/plain": [
       "0"
      ]
     },
     "execution_count": 7,
     "metadata": {},
     "output_type": "execute_result"
    }
   ],
   "source": [
    "np.array(2).ndim"
   ]
  },
  {
   "cell_type": "code",
   "execution_count": 8,
   "metadata": {},
   "outputs": [
    {
     "name": "stdout",
     "output_type": "stream",
     "text": [
      "[[0 1 2 3 4]\n",
      " [5 6 7 8 9]]\n"
     ]
    },
    {
     "data": {
      "text/plain": [
       "2"
      ]
     },
     "execution_count": 8,
     "metadata": {},
     "output_type": "execute_result"
    }
   ],
   "source": [
    "b = np.arange(10).reshape(2,5)\n",
    "print(b)\n",
    "b.ndim"
   ]
  },
  {
   "cell_type": "code",
   "execution_count": 9,
   "metadata": {},
   "outputs": [
    {
     "name": "stdout",
     "output_type": "stream",
     "text": [
      "[[[ 0  1  2  3  4  5  6  7  8  9]\n",
      "  [10 11 12 13 14 15 16 17 18 19]\n",
      "  [20 21 22 23 24 25 26 27 28 29]]\n",
      "\n",
      " [[30 31 32 33 34 35 36 37 38 39]\n",
      "  [40 41 42 43 44 45 46 47 48 49]\n",
      "  [50 51 52 53 54 55 56 57 58 59]]\n",
      "\n",
      " [[60 61 62 63 64 65 66 67 68 69]\n",
      "  [70 71 72 73 74 75 76 77 78 79]\n",
      "  [80 81 82 83 84 85 86 87 88 89]]]\n"
     ]
    },
    {
     "data": {
      "text/plain": [
       "3"
      ]
     },
     "execution_count": 9,
     "metadata": {},
     "output_type": "execute_result"
    }
   ],
   "source": [
    "b = np.arange(90).reshape(3,3,10)\n",
    "print(b)\n",
    "b.ndim"
   ]
  },
  {
   "cell_type": "code",
   "execution_count": 10,
   "metadata": {},
   "outputs": [
    {
     "name": "stdout",
     "output_type": "stream",
     "text": [
      "[2 list([4, [5], 6]) 3]\n"
     ]
    },
    {
     "name": "stderr",
     "output_type": "stream",
     "text": [
      "c:\\users\\nbalg\\appdata\\local\\programs\\python\\python37-32\\lib\\site-packages\\ipykernel_launcher.py:1: VisibleDeprecationWarning: Creating an ndarray from ragged nested sequences (which is a list-or-tuple of lists-or-tuples-or ndarrays with different lengths or shapes) is deprecated. If you meant to do this, you must specify 'dtype=object' when creating the ndarray\n",
      "  \"\"\"Entry point for launching an IPython kernel.\n"
     ]
    },
    {
     "data": {
      "text/plain": [
       "1"
      ]
     },
     "execution_count": 10,
     "metadata": {},
     "output_type": "execute_result"
    }
   ],
   "source": [
    "z = np.array([2,[4,[5],6],3])\n",
    "print(z)\n",
    "z.ndim"
   ]
  },
  {
   "cell_type": "code",
   "execution_count": 11,
   "metadata": {},
   "outputs": [
    {
     "name": "stdout",
     "output_type": "stream",
     "text": [
      "[[[[[[[[  0   1]\n",
      "       [  2   3]]\n",
      "\n",
      "      [[  4   5]\n",
      "       [  6   7]]]\n",
      "\n",
      "\n",
      "     [[[  8   9]\n",
      "       [ 10  11]]\n",
      "\n",
      "      [[ 12  13]\n",
      "       [ 14  15]]]]\n",
      "\n",
      "\n",
      "\n",
      "    [[[[ 16  17]\n",
      "       [ 18  19]]\n",
      "\n",
      "      [[ 20  21]\n",
      "       [ 22  23]]]\n",
      "\n",
      "\n",
      "     [[[ 24  25]\n",
      "       [ 26  27]]\n",
      "\n",
      "      [[ 28  29]\n",
      "       [ 30  31]]]]]\n",
      "\n",
      "\n",
      "\n",
      "\n",
      "   [[[[[ 32  33]\n",
      "       [ 34  35]]\n",
      "\n",
      "      [[ 36  37]\n",
      "       [ 38  39]]]\n",
      "\n",
      "\n",
      "     [[[ 40  41]\n",
      "       [ 42  43]]\n",
      "\n",
      "      [[ 44  45]\n",
      "       [ 46  47]]]]\n",
      "\n",
      "\n",
      "\n",
      "    [[[[ 48  49]\n",
      "       [ 50  51]]\n",
      "\n",
      "      [[ 52  53]\n",
      "       [ 54  55]]]\n",
      "\n",
      "\n",
      "     [[[ 56  57]\n",
      "       [ 58  59]]\n",
      "\n",
      "      [[ 60  61]\n",
      "       [ 62  63]]]]]]\n",
      "\n",
      "\n",
      "\n",
      "\n",
      "\n",
      "  [[[[[[ 64  65]\n",
      "       [ 66  67]]\n",
      "\n",
      "      [[ 68  69]\n",
      "       [ 70  71]]]\n",
      "\n",
      "\n",
      "     [[[ 72  73]\n",
      "       [ 74  75]]\n",
      "\n",
      "      [[ 76  77]\n",
      "       [ 78  79]]]]\n",
      "\n",
      "\n",
      "\n",
      "    [[[[ 80  81]\n",
      "       [ 82  83]]\n",
      "\n",
      "      [[ 84  85]\n",
      "       [ 86  87]]]\n",
      "\n",
      "\n",
      "     [[[ 88  89]\n",
      "       [ 90  91]]\n",
      "\n",
      "      [[ 92  93]\n",
      "       [ 94  95]]]]]\n",
      "\n",
      "\n",
      "\n",
      "\n",
      "   [[[[[ 96  97]\n",
      "       [ 98  99]]\n",
      "\n",
      "      [[100 101]\n",
      "       [102 103]]]\n",
      "\n",
      "\n",
      "     [[[104 105]\n",
      "       [106 107]]\n",
      "\n",
      "      [[108 109]\n",
      "       [110 111]]]]\n",
      "\n",
      "\n",
      "\n",
      "    [[[[112 113]\n",
      "       [114 115]]\n",
      "\n",
      "      [[116 117]\n",
      "       [118 119]]]\n",
      "\n",
      "\n",
      "     [[[120 121]\n",
      "       [122 123]]\n",
      "\n",
      "      [[124 125]\n",
      "       [126 127]]]]]]]\n",
      "\n",
      "\n",
      "\n",
      "\n",
      "\n",
      "\n",
      " [[[[[[[128 129]\n",
      "       [130 131]]\n",
      "\n",
      "      [[132 133]\n",
      "       [134 135]]]\n",
      "\n",
      "\n",
      "     [[[136 137]\n",
      "       [138 139]]\n",
      "\n",
      "      [[140 141]\n",
      "       [142 143]]]]\n",
      "\n",
      "\n",
      "\n",
      "    [[[[144 145]\n",
      "       [146 147]]\n",
      "\n",
      "      [[148 149]\n",
      "       [150 151]]]\n",
      "\n",
      "\n",
      "     [[[152 153]\n",
      "       [154 155]]\n",
      "\n",
      "      [[156 157]\n",
      "       [158 159]]]]]\n",
      "\n",
      "\n",
      "\n",
      "\n",
      "   [[[[[160 161]\n",
      "       [162 163]]\n",
      "\n",
      "      [[164 165]\n",
      "       [166 167]]]\n",
      "\n",
      "\n",
      "     [[[168 169]\n",
      "       [170 171]]\n",
      "\n",
      "      [[172 173]\n",
      "       [174 175]]]]\n",
      "\n",
      "\n",
      "\n",
      "    [[[[176 177]\n",
      "       [178 179]]\n",
      "\n",
      "      [[180 181]\n",
      "       [182 183]]]\n",
      "\n",
      "\n",
      "     [[[184 185]\n",
      "       [186 187]]\n",
      "\n",
      "      [[188 189]\n",
      "       [190 191]]]]]]\n",
      "\n",
      "\n",
      "\n",
      "\n",
      "\n",
      "  [[[[[[192 193]\n",
      "       [194 195]]\n",
      "\n",
      "      [[196 197]\n",
      "       [198 199]]]\n",
      "\n",
      "\n",
      "     [[[200 201]\n",
      "       [202 203]]\n",
      "\n",
      "      [[204 205]\n",
      "       [206 207]]]]\n",
      "\n",
      "\n",
      "\n",
      "    [[[[208 209]\n",
      "       [210 211]]\n",
      "\n",
      "      [[212 213]\n",
      "       [214 215]]]\n",
      "\n",
      "\n",
      "     [[[216 217]\n",
      "       [218 219]]\n",
      "\n",
      "      [[220 221]\n",
      "       [222 223]]]]]\n",
      "\n",
      "\n",
      "\n",
      "\n",
      "   [[[[[224 225]\n",
      "       [226 227]]\n",
      "\n",
      "      [[228 229]\n",
      "       [230 231]]]\n",
      "\n",
      "\n",
      "     [[[232 233]\n",
      "       [234 235]]\n",
      "\n",
      "      [[236 237]\n",
      "       [238 239]]]]\n",
      "\n",
      "\n",
      "\n",
      "    [[[[240 241]\n",
      "       [242 243]]\n",
      "\n",
      "      [[244 245]\n",
      "       [246 247]]]\n",
      "\n",
      "\n",
      "     [[[248 249]\n",
      "       [250 251]]\n",
      "\n",
      "      [[252 253]\n",
      "       [254 255]]]]]]]]\n"
     ]
    },
    {
     "data": {
      "text/plain": [
       "8"
      ]
     },
     "execution_count": 11,
     "metadata": {},
     "output_type": "execute_result"
    }
   ],
   "source": [
    "s = np.arange(2**8).reshape(2,2,2,2,2,2,2,2)\n",
    "print(s)\n",
    "s.ndim"
   ]
  },
  {
   "cell_type": "code",
   "execution_count": 12,
   "metadata": {},
   "outputs": [
    {
     "data": {
      "text/plain": [
       "array([[[[[[[[[1]]]]]]]]])"
      ]
     },
     "execution_count": 12,
     "metadata": {},
     "output_type": "execute_result"
    }
   ],
   "source": [
    "a = np.array([1],ndmin=9)\n",
    "a"
   ]
  },
  {
   "cell_type": "code",
   "execution_count": 13,
   "metadata": {},
   "outputs": [
    {
     "data": {
      "text/plain": [
       "2"
      ]
     },
     "execution_count": 13,
     "metadata": {},
     "output_type": "execute_result"
    }
   ],
   "source": [
    "a = np.array([1,2],ndmin=2)\n",
    "a[0][1]"
   ]
  },
  {
   "cell_type": "code",
   "execution_count": 14,
   "metadata": {},
   "outputs": [
    {
     "data": {
      "text/plain": [
       "2"
      ]
     },
     "execution_count": 14,
     "metadata": {},
     "output_type": "execute_result"
    }
   ],
   "source": [
    "a[-1,-1]"
   ]
  },
  {
   "cell_type": "markdown",
   "metadata": {},
   "source": [
    "### np Array Slicing"
   ]
  },
  {
   "cell_type": "code",
   "execution_count": 15,
   "metadata": {},
   "outputs": [
    {
     "data": {
      "text/plain": [
       "array([1, 2])"
      ]
     },
     "execution_count": 15,
     "metadata": {},
     "output_type": "execute_result"
    }
   ],
   "source": [
    "c = np.arange(15)\n",
    "c[1:3]"
   ]
  },
  {
   "cell_type": "code",
   "execution_count": 16,
   "metadata": {},
   "outputs": [
    {
     "data": {
      "text/plain": [
       "array([1, 4, 7])"
      ]
     },
     "execution_count": 16,
     "metadata": {},
     "output_type": "execute_result"
    }
   ],
   "source": [
    "c[1:10:3]"
   ]
  },
  {
   "cell_type": "code",
   "execution_count": 17,
   "metadata": {},
   "outputs": [
    {
     "data": {
      "text/plain": [
       "array([14, 13, 12, 11, 10,  9,  8,  7,  6,  5,  4,  3,  2,  1,  0])"
      ]
     },
     "execution_count": 17,
     "metadata": {},
     "output_type": "execute_result"
    }
   ],
   "source": [
    "c[::-1]"
   ]
  },
  {
   "cell_type": "code",
   "execution_count": 18,
   "metadata": {},
   "outputs": [
    {
     "data": {
      "text/plain": [
       "array([ 0,  1,  2,  3,  4,  5,  6,  7,  8,  9, 10, 11, 12, 13, 14])"
      ]
     },
     "execution_count": 18,
     "metadata": {},
     "output_type": "execute_result"
    }
   ],
   "source": [
    "c[::1]"
   ]
  },
  {
   "cell_type": "code",
   "execution_count": 19,
   "metadata": {},
   "outputs": [
    {
     "data": {
      "text/plain": [
       "array([ 2,  3,  4,  5,  6,  7,  8,  9, 10, 11, 12, 13, 14])"
      ]
     },
     "execution_count": 19,
     "metadata": {},
     "output_type": "execute_result"
    }
   ],
   "source": [
    "c[2::]"
   ]
  },
  {
   "cell_type": "code",
   "execution_count": 20,
   "metadata": {},
   "outputs": [
    {
     "data": {
      "text/plain": [
       "array([ 2,  3,  4,  5,  6,  7,  8,  9, 10, 11, 12, 13, 14])"
      ]
     },
     "execution_count": 20,
     "metadata": {},
     "output_type": "execute_result"
    }
   ],
   "source": [
    "c[2:]"
   ]
  },
  {
   "cell_type": "code",
   "execution_count": 21,
   "metadata": {},
   "outputs": [
    {
     "name": "stdout",
     "output_type": "stream",
     "text": [
      "[25 49 81]\n"
     ]
    }
   ],
   "source": [
    "a = np.array([1,2,3])\n",
    "b = np.array([4,5,6])\n",
    "c = a+b\n",
    "c = np.square(c)\n",
    "print(c)"
   ]
  },
  {
   "cell_type": "code",
   "execution_count": 26,
   "metadata": {},
   "outputs": [
    {
     "name": "stdout",
     "output_type": "stream",
     "text": [
      "2\n",
      "[[0 1]\n",
      " [2 3]\n",
      " [4 5]\n",
      " [6 7]]\n"
     ]
    },
    {
     "data": {
      "text/plain": [
       "[array([[0, 1]]), array([[2, 3]]), array([[4, 5]]), array([[6, 7]])]"
      ]
     },
     "execution_count": 26,
     "metadata": {},
     "output_type": "execute_result"
    }
   ],
   "source": [
    "a = np.arange(8).reshape(4,2)\n",
    "print(a.ndim)\n",
    "print(a)\n",
    "np.split(a,4)"
   ]
  },
  {
   "cell_type": "code",
   "execution_count": 23,
   "metadata": {},
   "outputs": [
    {
     "data": {
      "text/plain": [
       "array([1, 2])"
      ]
     },
     "execution_count": 23,
     "metadata": {},
     "output_type": "execute_result"
    }
   ],
   "source": [
    "x = np.array([-1,-2])\n",
    "np.abs(x)"
   ]
  },
  {
   "cell_type": "code",
   "execution_count": 24,
   "metadata": {},
   "outputs": [
    {
     "data": {
      "text/plain": [
       "<Figure size 640x480 with 1 Axes>"
      ]
     },
     "metadata": {},
     "output_type": "display_data"
    }
   ],
   "source": [
    "import matplotlib.pyplot as plt\n",
    "\n",
    "x = np.linspace(start=-10, stop=10, num=101)\n",
    "plt.plot(x, np.absolute(x))\n",
    "plt.show()"
   ]
  },
  {
   "cell_type": "code",
   "execution_count": 27,
   "metadata": {},
   "outputs": [
    {
     "data": {
      "image/png": "[encoded data removed]",
      "text/plain": [
       "<Figure size 432x288 with 1 Axes>"
      ]
     },
     "metadata": {
      "needs_background": "light"
     },
     "output_type": "display_data"
    }
   ],
   "source": [
    "xx = x + 1j * x[:, np.newaxis]\n",
    "plt.imshow(np.abs(xx), extent=[-10, 10, -10, 10], cmap='gray')\n",
    "plt.show()"
   ]
  },
  {
   "cell_type": "code",
   "execution_count": 28,
   "metadata": {},
   "outputs": [
    {
     "data": {
      "image/png": "[encoded data removed]",
      "text/plain": [
       "<Figure size 432x288 with 1 Axes>"
      ]
     },
     "metadata": {
      "needs_background": "light"
     },
     "output_type": "display_data"
    }
   ],
   "source": [
    "a = np.linspace(start=-200,stop=200)\n",
    "s = np.square(a) * a\n",
    "plt.plot(a,s)\n",
    "plt.show()"
   ]
  },
  {
   "cell_type": "code",
   "execution_count": 29,
   "metadata": {},
   "outputs": [
    {
     "name": "stdout",
     "output_type": "stream",
     "text": [
      "[[1. 1. 1.]\n",
      " [1. 1. 1.]\n",
      " [1. 1. 1.]]\n"
     ]
    }
   ],
   "source": [
    "print(np.ones((3,3)))"
   ]
  },
  {
   "cell_type": "code",
   "execution_count": 30,
   "metadata": {},
   "outputs": [
    {
     "name": "stdout",
     "output_type": "stream",
     "text": [
      "[[0. 0. 0.]\n",
      " [0. 0. 0.]\n",
      " [0. 0. 0.]]\n"
     ]
    }
   ],
   "source": [
    "print(np.zeros((3,3)))"
   ]
  },
  {
   "cell_type": "code",
   "execution_count": 31,
   "metadata": {},
   "outputs": [
    {
     "name": "stdout",
     "output_type": "stream",
     "text": [
      "[[1. 0. 0. 0. 0.]\n",
      " [0. 1. 0. 0. 0.]\n",
      " [0. 0. 1. 0. 0.]\n",
      " [0. 0. 0. 1. 0.]\n",
      " [0. 0. 0. 0. 1.]]\n"
     ]
    }
   ],
   "source": [
    "print(np.eye(5))"
   ]
  },
  {
   "cell_type": "code",
   "execution_count": 32,
   "metadata": {},
   "outputs": [
    {
     "data": {
      "text/plain": [
       "array([0.06739528, 0.1740752 , 0.44832788])"
      ]
     },
     "execution_count": 32,
     "metadata": {},
     "output_type": "execute_result"
    }
   ],
   "source": [
    "np.random.rand(3)"
   ]
  },
  {
   "cell_type": "code",
   "execution_count": 33,
   "metadata": {},
   "outputs": [
    {
     "data": {
      "text/plain": [
       "array([[[0.81708846, 0.55856752, 0.90922073, 0.88422338, 0.24767974],\n",
       "        [0.4162272 , 0.17620077, 0.74998104, 0.88936917, 0.55432424],\n",
       "        [0.94616275, 0.06194121, 0.95930732, 0.40535301, 0.52430122],\n",
       "        [0.38219826, 0.12706118, 0.32392188, 0.61107894, 0.02061062]],\n",
       "\n",
       "       [[0.92204687, 0.50375612, 0.02040382, 0.95653854, 0.30320212],\n",
       "        [0.33389227, 0.08289523, 0.70510997, 0.5468022 , 0.0516522 ],\n",
       "        [0.81041313, 0.89741659, 0.6081779 , 0.00241861, 0.72686323],\n",
       "        [0.32977304, 0.56097571, 0.45575244, 0.61515089, 0.44406183]]])"
      ]
     },
     "execution_count": 33,
     "metadata": {},
     "output_type": "execute_result"
    }
   ],
   "source": [
    "np.random.rand(2,4,5)"
   ]
  },
  {
   "cell_type": "code",
   "execution_count": 34,
   "metadata": {},
   "outputs": [
    {
     "name": "stdout",
     "output_type": "stream",
     "text": [
      "[58 91 89 33 38 92  4 84 35  6]\n"
     ]
    }
   ],
   "source": [
    "rarr = np.random.randint(1,100,10)\n",
    "print(rarr)"
   ]
  },
  {
   "cell_type": "code",
   "execution_count": 35,
   "metadata": {},
   "outputs": [
    {
     "data": {
      "text/plain": [
       "22"
      ]
     },
     "execution_count": 35,
     "metadata": {},
     "output_type": "execute_result"
    }
   ],
   "source": [
    "np.random.randint(1,100)"
   ]
  },
  {
   "cell_type": "code",
   "execution_count": 36,
   "metadata": {},
   "outputs": [
    {
     "data": {
      "text/plain": [
       "92"
      ]
     },
     "execution_count": 36,
     "metadata": {},
     "output_type": "execute_result"
    }
   ],
   "source": [
    "rarr.max()"
   ]
  },
  {
   "cell_type": "code",
   "execution_count": 37,
   "metadata": {},
   "outputs": [
    {
     "data": {
      "text/plain": [
       "5"
      ]
     },
     "execution_count": 37,
     "metadata": {},
     "output_type": "execute_result"
    }
   ],
   "source": [
    "rarr.argmax()"
   ]
  },
  {
   "cell_type": "code",
   "execution_count": 38,
   "metadata": {},
   "outputs": [
    {
     "data": {
      "text/plain": [
       "6"
      ]
     },
     "execution_count": 38,
     "metadata": {},
     "output_type": "execute_result"
    }
   ],
   "source": [
    "rarr.argmin()"
   ]
  },
  {
   "cell_type": "code",
   "execution_count": 39,
   "metadata": {},
   "outputs": [
    {
     "data": {
      "text/plain": [
       "False"
      ]
     },
     "execution_count": 39,
     "metadata": {},
     "output_type": "execute_result"
    }
   ],
   "source": [
    "rarr[8] == rarr.min()"
   ]
  },
  {
   "cell_type": "code",
   "execution_count": 40,
   "metadata": {},
   "outputs": [
    {
     "data": {
      "text/plain": [
       "array([6, 9, 3, 8, 4, 0, 7, 2, 1, 5], dtype=int32)"
      ]
     },
     "execution_count": 40,
     "metadata": {},
     "output_type": "execute_result"
    }
   ],
   "source": [
    "rarr.argsort()"
   ]
  },
  {
   "cell_type": "code",
   "execution_count": 41,
   "metadata": {},
   "outputs": [
    {
     "data": {
      "text/plain": [
       "<function ndarray.choose>"
      ]
     },
     "execution_count": 41,
     "metadata": {},
     "output_type": "execute_result"
    }
   ],
   "source": [
    "rarr.choose"
   ]
  },
  {
   "cell_type": "code",
   "execution_count": 42,
   "metadata": {},
   "outputs": [
    {
     "data": {
      "text/plain": [
       "<BarContainer object of 11 artists>"
      ]
     },
     "execution_count": 42,
     "metadata": {},
     "output_type": "execute_result"
    },
    {
     "data": {
      "image/png": "[encoded data removed]",
      "text/plain": [
       "<Figure size 432x288 with 1 Axes>"
      ]
     },
     "metadata": {
      "needs_background": "light"
     },
     "output_type": "display_data"
    }
   ],
   "source": [
    "plt.bar([i for i in range(11)],[i**2 for i in range(11)])"
   ]
  },
  {
   "cell_type": "code",
   "execution_count": 43,
   "metadata": {},
   "outputs": [
    {
     "data": {
      "text/plain": [
       "<matplotlib.patches.Circle at 0x142fbc70>"
      ]
     },
     "execution_count": 43,
     "metadata": {},
     "output_type": "execute_result"
    }
   ],
   "source": [
    "plt.Circle((2,3))"
   ]
  },
  {
   "cell_type": "code",
   "execution_count": null,
   "metadata": {},
   "outputs": [],
   "source": []
  }
 ],
 "metadata": {
  "kernelspec": {
   "display_name": "Python 3",
   "language": "python",
   "name": "python3"
  },
  "language_info": {
   "codemirror_mode": {
    "name": "ipython",
    "version": 3
   },
   "file_extension": ".py",
   "mimetype": "text/x-python",
   "name": "python",
   "nbconvert_exporter": "python",
   "pygments_lexer": "ipython3",
   "version": "3.7.4"
  }
 },
 "nbformat": 4,
 "nbformat_minor": 2
}
