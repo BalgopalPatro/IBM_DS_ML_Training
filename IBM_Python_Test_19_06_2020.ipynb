{
 "cells": [
  {
   "cell_type": "markdown",
   "metadata": {},
   "source": [
    "### 1.Palindrome Check"
   ]
  },
  {
   "cell_type": "code",
   "execution_count": 34,
   "metadata": {},
   "outputs": [
    {
     "name": "stdout",
     "output_type": "stream",
     "text": [
      "Enter a String to check Palindrom :\n",
      " is palindromme\n"
     ]
    }
   ],
   "source": [
    "a = input(\"Enter a String to check Palindrom :\")\n",
    "rev = a[::-1]\n",
    "if(a==rev):\n",
    "    print(\"{} is palindromme\".format(a))\n",
    "else:\n",
    "    print(\"{} is not palindromme\".format(a))"
   ]
  },
  {
   "cell_type": "markdown",
   "metadata": {},
   "source": [
    "### 2.Remove Duplicate"
   ]
  },
  {
   "cell_type": "code",
   "execution_count": 17,
   "metadata": {},
   "outputs": [
    {
     "name": "stdout",
     "output_type": "stream",
     "text": [
      "Enter a String :ababab\n",
      "ab\n"
     ]
    }
   ],
   "source": [
    "a = input(\"Enter a String :\")\n",
    "ans = \"\"\n",
    "for c in dict.fromkeys(a).keys():\n",
    "    ans =ans+c\n",
    "print(ans)"
   ]
  },
  {
   "cell_type": "markdown",
   "metadata": {},
   "source": [
    "### 3.Split and Join"
   ]
  },
  {
   "cell_type": "code",
   "execution_count": 11,
   "metadata": {},
   "outputs": [
    {
     "name": "stdout",
     "output_type": "stream",
     "text": [
      "Enter a String :panda\n",
      "a = panda\n",
      "b = pa\n",
      "c = nda\n",
      "Again by join a and b panda\n"
     ]
    }
   ],
   "source": [
    "a = input(\"Enter a String :\")\n",
    "print(\"a = {}\".format(a))\n",
    "s1 = int(len(a)/2)\n",
    "s2 = int(len(a) - s1)\n",
    "b = a[:s1]\n",
    "c = a[-s2:]\n",
    "print(\"b = {}\".format(b))\n",
    "print(\"c = {}\".format(c))\n",
    "print(\"Again by join a and b {}\".format(b+c))"
   ]
  },
  {
   "cell_type": "markdown",
   "metadata": {},
   "source": [
    "### 4.Merge 2 dict"
   ]
  },
  {
   "cell_type": "code",
   "execution_count": 14,
   "metadata": {},
   "outputs": [
    {
     "name": "stdout",
     "output_type": "stream",
     "text": [
      "{'a': 1, 'b': 2, 'c': 3, 'd': 4}\n"
     ]
    }
   ],
   "source": [
    "a = {\"a\":1,\"b\":2}\n",
    "c = {\"c\":3,\"d\":4}\n",
    "a.update(c)\n",
    "print(a)"
   ]
  },
  {
   "cell_type": "markdown",
   "metadata": {},
   "source": [
    "### 5.Create touple from list"
   ]
  },
  {
   "cell_type": "code",
   "execution_count": 17,
   "metadata": {},
   "outputs": [
    {
     "name": "stdout",
     "output_type": "stream",
     "text": [
      "[(1, 1), (2, 8), (3, 27), (4, 64), (5, 125), (6, 216)]\n"
     ]
    }
   ],
   "source": [
    "l= [1,2,3,4,5,6]\n",
    "ans = [(i,i**3) for i in l]\n",
    "print(ans)"
   ]
  },
  {
   "cell_type": "markdown",
   "metadata": {},
   "source": [
    "### 6.Show Prime Numbers in a inteval"
   ]
  },
  {
   "cell_type": "code",
   "execution_count": 21,
   "metadata": {
    "scrolled": true
   },
   "outputs": [
    {
     "name": "stdout",
     "output_type": "stream",
     "text": [
      "Enter the Starting value of your interval 2\n",
      "Enter the Ending value of your interval 12\n",
      "[2, 3, 5, 7, 11] is the list of prime numbers in interval (2,12)\n"
     ]
    }
   ],
   "source": [
    "a = int(input(\"Enter the Starting value of your interval \"))\n",
    "b = int(input(\"Enter the Ending value of your interval \"))\n",
    "ans = []\n",
    "\n",
    "def checkPrime(n):\n",
    "    a = True;\n",
    "    for i in range(2,n//2+1):\n",
    "        if(n%i == 0):\n",
    "            a = False\n",
    "            break\n",
    "    return a\n",
    "\n",
    "for i in range(a,b+1):\n",
    "    if(checkPrime(i)):\n",
    "        ans.append(i)\n",
    "print(\"{} is the list of prime numbers in interval ({},{})\".format(ans,a,b))"
   ]
  },
  {
   "cell_type": "markdown",
   "metadata": {},
   "source": [
    "### 7.Square root of a number"
   ]
  },
  {
   "cell_type": "code",
   "execution_count": 25,
   "metadata": {},
   "outputs": [
    {
     "name": "stdout",
     "output_type": "stream",
     "text": [
      "Enter a number : 3\n",
      "square root of 3 is 1.7320508075688772\n"
     ]
    }
   ],
   "source": [
    "import math;\n",
    "a = int(input(\"Enter a number : \"))\n",
    "print(\"square root of {} is {}\".format(a,math.sqrt(a)))"
   ]
  },
  {
   "cell_type": "markdown",
   "metadata": {},
   "source": [
    "### 8.Length of a string"
   ]
  },
  {
   "cell_type": "code",
   "execution_count": 33,
   "metadata": {},
   "outputs": [
    {
     "name": "stdout",
     "output_type": "stream",
     "text": [
      "Enter a String :opop\n",
      "Length of String is : 4\n"
     ]
    }
   ],
   "source": [
    "a = input(\"Enter a String :\")\n",
    "l = 0;\n",
    "for i in a:\n",
    "    l+=1;\n",
    "print(\"Length of String is :\",l)"
   ]
  },
  {
   "cell_type": "markdown",
   "metadata": {},
   "source": [
    "### 9.Sum of all elements in the List"
   ]
  },
  {
   "cell_type": "code",
   "execution_count": 29,
   "metadata": {},
   "outputs": [
    {
     "name": "stdout",
     "output_type": "stream",
     "text": [
      "The Sum is 1547\n"
     ]
    }
   ],
   "source": [
    "l = [23,234,12,35,1243]\n",
    "s = 0\n",
    "for i in l :\n",
    "    s +=i\n",
    "print(\"The Sum is\",s)"
   ]
  },
  {
   "cell_type": "markdown",
   "metadata": {},
   "source": [
    "### 10.Product of all elements in List"
   ]
  },
  {
   "cell_type": "code",
   "execution_count": 30,
   "metadata": {},
   "outputs": [
    {
     "name": "stdout",
     "output_type": "stream",
     "text": [
      "The Product is 2809726920\n"
     ]
    }
   ],
   "source": [
    "l = [23,234,12,35,1243]\n",
    "p = 1\n",
    "for i in l:\n",
    "    p *= i\n",
    "print(\"The Product is\",p)"
   ]
  },
  {
   "cell_type": "code",
   "execution_count": null,
   "metadata": {},
   "outputs": [],
   "source": []
  }
 ],
 "metadata": {
  "kernelspec": {
   "display_name": "Python 3",
   "language": "python",
   "name": "python3"
  },
  "language_info": {
   "codemirror_mode": {
    "name": "ipython",
    "version": 3
   },
   "file_extension": ".py",
   "mimetype": "text/x-python",
   "name": "python",
   "nbconvert_exporter": "python",
   "pygments_lexer": "ipython3",
   "version": "3.7.4"
  }
 },
 "nbformat": 4,
 "nbformat_minor": 2
}
