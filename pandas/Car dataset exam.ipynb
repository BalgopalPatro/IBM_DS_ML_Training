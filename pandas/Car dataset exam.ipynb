{
 "cells": [
  {
   "cell_type": "code",
   "execution_count": 1,
   "metadata": {},
   "outputs": [],
   "source": [
    "import pandas as pd\n",
    "import numpy as np"
   ]
  },
  {
   "cell_type": "markdown",
   "metadata": {},
   "source": [
    "### 1. Import Car Sales data"
   ]
  },
  {
   "cell_type": "code",
   "execution_count": 2,
   "metadata": {},
   "outputs": [],
   "source": [
    "cardf = pd.read_csv('Car_sales.csv')"
   ]
  },
  {
   "cell_type": "code",
   "execution_count": 3,
   "metadata": {},
   "outputs": [
    {
     "data": {
      "text/html": [
       "<div>\n",
       "<style scoped>\n",
       "    .dataframe tbody tr th:only-of-type {\n",
       "        vertical-align: middle;\n",
       "    }\n",
       "\n",
       "    .dataframe tbody tr th {\n",
       "        vertical-align: top;\n",
       "    }\n",
       "\n",
       "    .dataframe thead th {\n",
       "        text-align: right;\n",
       "    }\n",
       "</style>\n",
       "<table border=\"1\" class=\"dataframe\">\n",
       "  <thead>\n",
       "    <tr style=\"text-align: right;\">\n",
       "      <th></th>\n",
       "      <th>Manufacturer</th>\n",
       "      <th>Model</th>\n",
       "      <th>Sales in thousands</th>\n",
       "      <th>x_4_year</th>\n",
       "      <th>Vehicle type</th>\n",
       "      <th>Price in thousands</th>\n",
       "      <th>Engine size</th>\n",
       "      <th>Horsepower</th>\n",
       "      <th>Wheelbase</th>\n",
       "      <th>Width</th>\n",
       "      <th>Length</th>\n",
       "      <th>Curb weight</th>\n",
       "      <th>Fuel capacity</th>\n",
       "      <th>Fuel efficiency</th>\n",
       "      <th>Latest Launch</th>\n",
       "      <th>Unnamed: 15</th>\n",
       "      <th>XX</th>\n",
       "    </tr>\n",
       "  </thead>\n",
       "  <tbody>\n",
       "    <tr>\n",
       "      <th>0</th>\n",
       "      <td>Acura</td>\n",
       "      <td>Integra</td>\n",
       "      <td>16.919</td>\n",
       "      <td>16.360</td>\n",
       "      <td>Passenger</td>\n",
       "      <td>21.50</td>\n",
       "      <td>1.8</td>\n",
       "      <td>140.0</td>\n",
       "      <td>101.2</td>\n",
       "      <td>67.3</td>\n",
       "      <td>172.4</td>\n",
       "      <td>2.639</td>\n",
       "      <td>13.2</td>\n",
       "      <td>28.0</td>\n",
       "      <td>2-Feb-14</td>\n",
       "      <td>NaN</td>\n",
       "      <td>16.360</td>\n",
       "    </tr>\n",
       "    <tr>\n",
       "      <th>1</th>\n",
       "      <td>Acura</td>\n",
       "      <td>TL</td>\n",
       "      <td>39.384</td>\n",
       "      <td>19.875</td>\n",
       "      <td>Passenger</td>\n",
       "      <td>28.40</td>\n",
       "      <td>3.2</td>\n",
       "      <td>225.0</td>\n",
       "      <td>108.1</td>\n",
       "      <td>70.3</td>\n",
       "      <td>192.9</td>\n",
       "      <td>3.517</td>\n",
       "      <td>17.2</td>\n",
       "      <td>25.0</td>\n",
       "      <td>6-Mar-15</td>\n",
       "      <td>NaN</td>\n",
       "      <td>19.875</td>\n",
       "    </tr>\n",
       "    <tr>\n",
       "      <th>2</th>\n",
       "      <td>Acura</td>\n",
       "      <td>CL</td>\n",
       "      <td>14.114</td>\n",
       "      <td>18.225</td>\n",
       "      <td>Passenger</td>\n",
       "      <td>NaN</td>\n",
       "      <td>3.2</td>\n",
       "      <td>225.0</td>\n",
       "      <td>106.9</td>\n",
       "      <td>70.6</td>\n",
       "      <td>192.0</td>\n",
       "      <td>3.470</td>\n",
       "      <td>17.2</td>\n",
       "      <td>26.0</td>\n",
       "      <td>1-Apr-14</td>\n",
       "      <td>NaN</td>\n",
       "      <td>18.225</td>\n",
       "    </tr>\n",
       "    <tr>\n",
       "      <th>3</th>\n",
       "      <td>Acura</td>\n",
       "      <td>RL</td>\n",
       "      <td>8.588</td>\n",
       "      <td>29.725</td>\n",
       "      <td>Passenger</td>\n",
       "      <td>42.00</td>\n",
       "      <td>3.5</td>\n",
       "      <td>210.0</td>\n",
       "      <td>114.6</td>\n",
       "      <td>71.4</td>\n",
       "      <td>196.6</td>\n",
       "      <td>3.850</td>\n",
       "      <td>18.0</td>\n",
       "      <td>22.0</td>\n",
       "      <td>3-Oct-15</td>\n",
       "      <td>NaN</td>\n",
       "      <td>29.725</td>\n",
       "    </tr>\n",
       "    <tr>\n",
       "      <th>4</th>\n",
       "      <td>Audi</td>\n",
       "      <td>A4</td>\n",
       "      <td>20.397</td>\n",
       "      <td>22.255</td>\n",
       "      <td>Passenger</td>\n",
       "      <td>23.99</td>\n",
       "      <td>1.8</td>\n",
       "      <td>150.0</td>\n",
       "      <td>102.6</td>\n",
       "      <td>68.2</td>\n",
       "      <td>178.0</td>\n",
       "      <td>2.998</td>\n",
       "      <td>16.4</td>\n",
       "      <td>27.0</td>\n",
       "      <td>10-Aug-15</td>\n",
       "      <td>NaN</td>\n",
       "      <td>22.255</td>\n",
       "    </tr>\n",
       "    <tr>\n",
       "      <th>...</th>\n",
       "      <td>...</td>\n",
       "      <td>...</td>\n",
       "      <td>...</td>\n",
       "      <td>...</td>\n",
       "      <td>...</td>\n",
       "      <td>...</td>\n",
       "      <td>...</td>\n",
       "      <td>...</td>\n",
       "      <td>...</td>\n",
       "      <td>...</td>\n",
       "      <td>...</td>\n",
       "      <td>...</td>\n",
       "      <td>...</td>\n",
       "      <td>...</td>\n",
       "      <td>...</td>\n",
       "      <td>...</td>\n",
       "      <td>...</td>\n",
       "    </tr>\n",
       "    <tr>\n",
       "      <th>152</th>\n",
       "      <td>Volvo</td>\n",
       "      <td>V40</td>\n",
       "      <td>3.545</td>\n",
       "      <td>NaN</td>\n",
       "      <td>Passenger</td>\n",
       "      <td>24.40</td>\n",
       "      <td>1.9</td>\n",
       "      <td>160.0</td>\n",
       "      <td>100.5</td>\n",
       "      <td>67.6</td>\n",
       "      <td>176.6</td>\n",
       "      <td>3.042</td>\n",
       "      <td>15.8</td>\n",
       "      <td>25.0</td>\n",
       "      <td>21-Sep-15</td>\n",
       "      <td>NaN</td>\n",
       "      <td>NaN</td>\n",
       "    </tr>\n",
       "    <tr>\n",
       "      <th>153</th>\n",
       "      <td>Volvo</td>\n",
       "      <td>S70</td>\n",
       "      <td>15.245</td>\n",
       "      <td>NaN</td>\n",
       "      <td>Passenger</td>\n",
       "      <td>27.50</td>\n",
       "      <td>2.4</td>\n",
       "      <td>168.0</td>\n",
       "      <td>104.9</td>\n",
       "      <td>69.3</td>\n",
       "      <td>185.9</td>\n",
       "      <td>3.208</td>\n",
       "      <td>17.9</td>\n",
       "      <td>25.0</td>\n",
       "      <td>24-Nov-14</td>\n",
       "      <td>NaN</td>\n",
       "      <td>NaN</td>\n",
       "    </tr>\n",
       "    <tr>\n",
       "      <th>154</th>\n",
       "      <td>Volvo</td>\n",
       "      <td>V70</td>\n",
       "      <td>17.531</td>\n",
       "      <td>NaN</td>\n",
       "      <td>Passenger</td>\n",
       "      <td>28.80</td>\n",
       "      <td>2.4</td>\n",
       "      <td>168.0</td>\n",
       "      <td>104.9</td>\n",
       "      <td>69.3</td>\n",
       "      <td>186.2</td>\n",
       "      <td>3.259</td>\n",
       "      <td>17.9</td>\n",
       "      <td>25.0</td>\n",
       "      <td>25-Jun-15</td>\n",
       "      <td>NaN</td>\n",
       "      <td>NaN</td>\n",
       "    </tr>\n",
       "    <tr>\n",
       "      <th>155</th>\n",
       "      <td>Volvo</td>\n",
       "      <td>C70</td>\n",
       "      <td>3.493</td>\n",
       "      <td>NaN</td>\n",
       "      <td>Passenger</td>\n",
       "      <td>45.50</td>\n",
       "      <td>2.3</td>\n",
       "      <td>236.0</td>\n",
       "      <td>104.9</td>\n",
       "      <td>71.5</td>\n",
       "      <td>185.7</td>\n",
       "      <td>3.601</td>\n",
       "      <td>18.5</td>\n",
       "      <td>23.0</td>\n",
       "      <td>26-Apr-15</td>\n",
       "      <td>NaN</td>\n",
       "      <td>NaN</td>\n",
       "    </tr>\n",
       "    <tr>\n",
       "      <th>156</th>\n",
       "      <td>Volvo</td>\n",
       "      <td>S80</td>\n",
       "      <td>18.969</td>\n",
       "      <td>NaN</td>\n",
       "      <td>Passenger</td>\n",
       "      <td>36.00</td>\n",
       "      <td>2.9</td>\n",
       "      <td>201.0</td>\n",
       "      <td>109.9</td>\n",
       "      <td>72.1</td>\n",
       "      <td>189.8</td>\n",
       "      <td>3.600</td>\n",
       "      <td>21.1</td>\n",
       "      <td>24.0</td>\n",
       "      <td>14-Nov-15</td>\n",
       "      <td>NaN</td>\n",
       "      <td>NaN</td>\n",
       "    </tr>\n",
       "  </tbody>\n",
       "</table>\n",
       "<p>157 rows × 17 columns</p>\n",
       "</div>"
      ],
      "text/plain": [
       "      Manufacturer              Model  Sales in thousands  x_4_year  \\\n",
       "0    Acura          Integra                        16.919    16.360   \n",
       "1    Acura          TL                             39.384    19.875   \n",
       "2    Acura          CL                             14.114    18.225   \n",
       "3    Acura          RL                              8.588    29.725   \n",
       "4    Audi           A4                             20.397    22.255   \n",
       "..             ...                ...                 ...       ...   \n",
       "152  Volvo          V40                             3.545       NaN   \n",
       "153  Volvo          S70                            15.245       NaN   \n",
       "154  Volvo          V70                            17.531       NaN   \n",
       "155  Volvo          C70                             3.493       NaN   \n",
       "156  Volvo          S80                            18.969       NaN   \n",
       "\n",
       "    Vehicle type  Price in thousands  Engine size  Horsepower  Wheelbase  \\\n",
       "0      Passenger               21.50          1.8       140.0      101.2   \n",
       "1      Passenger               28.40          3.2       225.0      108.1   \n",
       "2      Passenger                 NaN          3.2       225.0      106.9   \n",
       "3      Passenger               42.00          3.5       210.0      114.6   \n",
       "4      Passenger               23.99          1.8       150.0      102.6   \n",
       "..           ...                 ...          ...         ...        ...   \n",
       "152    Passenger               24.40          1.9       160.0      100.5   \n",
       "153    Passenger               27.50          2.4       168.0      104.9   \n",
       "154    Passenger               28.80          2.4       168.0      104.9   \n",
       "155    Passenger               45.50          2.3       236.0      104.9   \n",
       "156    Passenger               36.00          2.9       201.0      109.9   \n",
       "\n",
       "     Width  Length  Curb weight  Fuel capacity  Fuel efficiency Latest Launch  \\\n",
       "0     67.3   172.4        2.639           13.2             28.0      2-Feb-14   \n",
       "1     70.3   192.9        3.517           17.2             25.0      6-Mar-15   \n",
       "2     70.6   192.0        3.470           17.2             26.0      1-Apr-14   \n",
       "3     71.4   196.6        3.850           18.0             22.0      3-Oct-15   \n",
       "4     68.2   178.0        2.998           16.4             27.0     10-Aug-15   \n",
       "..     ...     ...          ...            ...              ...           ...   \n",
       "152   67.6   176.6        3.042           15.8             25.0     21-Sep-15   \n",
       "153   69.3   185.9        3.208           17.9             25.0     24-Nov-14   \n",
       "154   69.3   186.2        3.259           17.9             25.0     25-Jun-15   \n",
       "155   71.5   185.7        3.601           18.5             23.0     26-Apr-15   \n",
       "156   72.1   189.8        3.600           21.1             24.0     14-Nov-15   \n",
       "\n",
       "     Unnamed: 15      XX  \n",
       "0            NaN  16.360  \n",
       "1            NaN  19.875  \n",
       "2            NaN  18.225  \n",
       "3            NaN  29.725  \n",
       "4            NaN  22.255  \n",
       "..           ...     ...  \n",
       "152          NaN     NaN  \n",
       "153          NaN     NaN  \n",
       "154          NaN     NaN  \n",
       "155          NaN     NaN  \n",
       "156          NaN     NaN  \n",
       "\n",
       "[157 rows x 17 columns]"
      ]
     },
     "execution_count": 3,
     "metadata": {},
     "output_type": "execute_result"
    }
   ],
   "source": [
    "cardf"
   ]
  },
  {
   "cell_type": "markdown",
   "metadata": {},
   "source": [
    "### 3. Treat all the missing values with mean/median or most occuring observation"
   ]
  },
  {
   "cell_type": "code",
   "execution_count": 4,
   "metadata": {},
   "outputs": [
    {
     "data": {
      "text/plain": [
       "Manufacturer            3\n",
       "Model                   0\n",
       "Sales in thousands      0\n",
       "x_4_year               36\n",
       "Vehicle type            0\n",
       "Price in thousands      2\n",
       "Engine size             1\n",
       "Horsepower              1\n",
       "Wheelbase               1\n",
       "Width                   1\n",
       "Length                  1\n",
       "Curb weight             2\n",
       "Fuel capacity           1\n",
       "Fuel efficiency         3\n",
       "Latest Launch           0\n",
       "Unnamed: 15           157\n",
       "XX                     36\n",
       "dtype: int64"
      ]
     },
     "execution_count": 4,
     "metadata": {},
     "output_type": "execute_result"
    }
   ],
   "source": [
    "cardf.isnull().sum()"
   ]
  },
  {
   "cell_type": "code",
   "execution_count": 5,
   "metadata": {},
   "outputs": [],
   "source": [
    "cardf['Manufacturer'].fillna(value=cardf['Manufacturer'].mode()[0],inplace=True)\n",
    "cardf['x_4_year'].fillna(value=cardf['x_4_year'].mean(),inplace=True)\n",
    "cardf['Price in thousands'].fillna(value=cardf['Price in thousands'].mean(),inplace=True)\n",
    "cardf['Engine size'].fillna(value=cardf['Engine size'].mean(),inplace=True)\n",
    "cardf['Horsepower'].fillna(value=cardf['Horsepower'].mean(),inplace=True)\n",
    "cardf['Horsepower'].fillna(value=cardf['Horsepower'].mean(),inplace=True)\n",
    "cardf['Wheelbase'].fillna(value=cardf['Wheelbase'].mean(),inplace=True)\n",
    "cardf['Width'].fillna(value=cardf['Width'].mean(),inplace=True)\n",
    "cardf['Length'].fillna(value=cardf['Length'].mean(),inplace=True)\n",
    "cardf['Curb weight'].fillna(value=cardf['Curb weight'].mean(),inplace=True)\n",
    "cardf['Fuel capacity'].fillna(value=cardf['Fuel capacity'].mean(),inplace=True)\n",
    "cardf['Fuel efficiency'].fillna(value=cardf['Fuel efficiency'].mean(),inplace=True)\n",
    "cardf['XX'].fillna(value=cardf['XX'].mean(),inplace=True)"
   ]
  },
  {
   "cell_type": "code",
   "execution_count": 6,
   "metadata": {},
   "outputs": [
    {
     "data": {
      "text/plain": [
       "Manufacturer            0\n",
       "Model                   0\n",
       "Sales in thousands      0\n",
       "x_4_year                0\n",
       "Vehicle type            0\n",
       "Price in thousands      0\n",
       "Engine size             0\n",
       "Horsepower              0\n",
       "Wheelbase               0\n",
       "Width                   0\n",
       "Length                  0\n",
       "Curb weight             0\n",
       "Fuel capacity           0\n",
       "Fuel efficiency         0\n",
       "Latest Launch           0\n",
       "Unnamed: 15           157\n",
       "XX                      0\n",
       "dtype: int64"
      ]
     },
     "execution_count": 6,
     "metadata": {},
     "output_type": "execute_result"
    }
   ],
   "source": [
    "cardf.isnull().sum()"
   ]
  },
  {
   "cell_type": "markdown",
   "metadata": {},
   "source": [
    "### 4. Check for the No. of rows and No. of Column in Car Data"
   ]
  },
  {
   "cell_type": "code",
   "execution_count": 7,
   "metadata": {},
   "outputs": [
    {
     "name": "stdout",
     "output_type": "stream",
     "text": [
      "Rows : 157\n",
      "Col : 17\n"
     ]
    }
   ],
   "source": [
    "row,col = cardf.shape\n",
    "print(\"Rows :\",row)\n",
    "print('Col :',col)"
   ]
  },
  {
   "cell_type": "markdown",
   "metadata": {},
   "source": [
    "### 7. Remove unnecessary columns from the data, depending on your own understandings from cars data"
   ]
  },
  {
   "cell_type": "code",
   "execution_count": 8,
   "metadata": {},
   "outputs": [],
   "source": [
    "cardf.drop(['Unnamed: 15'],axis=1,inplace=True)"
   ]
  },
  {
   "cell_type": "markdown",
   "metadata": {},
   "source": [
    "#### 7.1 Fetch the name of the model and company's name which have lowest sales."
   ]
  },
  {
   "cell_type": "code",
   "execution_count": 9,
   "metadata": {},
   "outputs": [
    {
     "data": {
      "text/plain": [
       "Manufacturer        Mitsubishi   \n",
       "Model           3000GT           \n",
       "Name: 83, dtype: object"
      ]
     },
     "execution_count": 9,
     "metadata": {},
     "output_type": "execute_result"
    }
   ],
   "source": [
    "cardf.loc[cardf['Sales in thousands'].idxmin(),['Manufacturer','Model']]"
   ]
  },
  {
   "cell_type": "markdown",
   "metadata": {},
   "source": [
    "#### 7.2 Fetch the name of the model and company's name which have Highest sales."
   ]
  },
  {
   "cell_type": "code",
   "execution_count": 10,
   "metadata": {},
   "outputs": [
    {
     "data": {
      "text/plain": [
       "Manufacturer        Ford         \n",
       "Model           F-Series         \n",
       "Name: 56, dtype: object"
      ]
     },
     "execution_count": 10,
     "metadata": {},
     "output_type": "execute_result"
    }
   ],
   "source": [
    "cardf.loc[cardf['Sales in thousands'].idxmax(),['Manufacturer','Model']]"
   ]
  },
  {
   "cell_type": "markdown",
   "metadata": {},
   "source": [
    "#### 7.3 Fetch the name of the model and company's name which have lowest sales with respect to Vehicle Type Passenger"
   ]
  },
  {
   "cell_type": "code",
   "execution_count": 11,
   "metadata": {},
   "outputs": [
    {
     "data": {
      "text/plain": [
       "Manufacturer        Mitsubishi   \n",
       "Model           3000GT           \n",
       "Name: 83, dtype: object"
      ]
     },
     "execution_count": 11,
     "metadata": {},
     "output_type": "execute_result"
    }
   ],
   "source": [
    "cardf.loc[cardf['Vehicle type'] == 'Passenger'].loc[cardf['Sales in thousands'].idxmin(),['Manufacturer','Model']]"
   ]
  },
  {
   "cell_type": "markdown",
   "metadata": {},
   "source": [
    "#### 7.4 Fetch the name of the model and company's name which have Highest sales with respect to Engine Size > 6"
   ]
  },
  {
   "cell_type": "code",
   "execution_count": 12,
   "metadata": {},
   "outputs": [
    {
     "data": {
      "text/html": [
       "<div>\n",
       "<style scoped>\n",
       "    .dataframe tbody tr th:only-of-type {\n",
       "        vertical-align: middle;\n",
       "    }\n",
       "\n",
       "    .dataframe tbody tr th {\n",
       "        vertical-align: top;\n",
       "    }\n",
       "\n",
       "    .dataframe thead th {\n",
       "        text-align: right;\n",
       "    }\n",
       "</style>\n",
       "<table border=\"1\" class=\"dataframe\">\n",
       "  <thead>\n",
       "    <tr style=\"text-align: right;\">\n",
       "      <th></th>\n",
       "      <th>Manufacturer</th>\n",
       "      <th>Model</th>\n",
       "    </tr>\n",
       "  </thead>\n",
       "  <tbody>\n",
       "    <tr>\n",
       "      <th>39</th>\n",
       "      <td>Dodge</td>\n",
       "      <td>Viper</td>\n",
       "    </tr>\n",
       "  </tbody>\n",
       "</table>\n",
       "</div>"
      ],
      "text/plain": [
       "     Manufacturer              Model\n",
       "39  Dodge          Viper            "
      ]
     },
     "execution_count": 12,
     "metadata": {},
     "output_type": "execute_result"
    }
   ],
   "source": [
    "cardf.loc[cardf['Engine size'] >6,['Manufacturer','Model'] ]"
   ]
  },
  {
   "cell_type": "markdown",
   "metadata": {},
   "source": [
    "#### 7.5 Fetch the company name who have got highest mileage with respect to Vehicle Type as Car"
   ]
  },
  {
   "cell_type": "code",
   "execution_count": 13,
   "metadata": {},
   "outputs": [
    {
     "data": {
      "text/plain": [
       "Manufacturer    Toyota       \n",
       "Name: 142, dtype: object"
      ]
     },
     "execution_count": 13,
     "metadata": {},
     "output_type": "execute_result"
    }
   ],
   "source": [
    "cars = cardf.loc[cardf['Vehicle type'] == 'Car']\n",
    "cars.loc[cars['Fuel efficiency'].idxmax(),['Manufacturer']]"
   ]
  },
  {
   "cell_type": "markdown",
   "metadata": {},
   "source": [
    "#### 7.6 Fetch the company name who has got lowest mileage with respect to Vehicle Type as Passengers."
   ]
  },
  {
   "cell_type": "code",
   "execution_count": 14,
   "metadata": {},
   "outputs": [
    {
     "data": {
      "text/plain": [
       "Manufacturer    Dodge        \n",
       "Name: 39, dtype: object"
      ]
     },
     "execution_count": 14,
     "metadata": {},
     "output_type": "execute_result"
    }
   ],
   "source": [
    "cars = cardf.loc[cardf['Vehicle type'] == 'Passenger']\n",
    "cars.loc[cars['Fuel efficiency'].idxmin(),['Manufacturer']]"
   ]
  },
  {
   "cell_type": "markdown",
   "metadata": {},
   "source": [
    "#### 7.7 Fetch the company name who has got least price and maximum number of sales figures."
   ]
  },
  {
   "cell_type": "code",
   "execution_count": 15,
   "metadata": {},
   "outputs": [
    {
     "data": {
      "text/plain": [
       "9.235"
      ]
     },
     "execution_count": 15,
     "metadata": {},
     "output_type": "execute_result"
    }
   ],
   "source": [
    "cardf['Price in thousands'].min()"
   ]
  },
  {
   "cell_type": "code",
   "execution_count": 16,
   "metadata": {},
   "outputs": [
    {
     "data": {
      "text/plain": [
       "'Ford         '"
      ]
     },
     "execution_count": 16,
     "metadata": {},
     "output_type": "execute_result"
    }
   ],
   "source": [
    "cardf.loc[(cardf['Price in thousands'] / cardf['Sales in thousands']).idxmin(),'Manufacturer']"
   ]
  },
  {
   "cell_type": "markdown",
   "metadata": {},
   "source": [
    "#### 7.8 Fetch the company name who has got highest price and minimum number of sales figures."
   ]
  },
  {
   "cell_type": "code",
   "execution_count": 17,
   "metadata": {},
   "outputs": [
    {
     "data": {
      "text/plain": [
       "'Mitsubishi   '"
      ]
     },
     "execution_count": 17,
     "metadata": {},
     "output_type": "execute_result"
    }
   ],
   "source": [
    "cardf.loc[(cardf['Price in thousands'] / cardf['Sales in thousands']).idxmax(),'Manufacturer']"
   ]
  },
  {
   "cell_type": "markdown",
   "metadata": {},
   "source": [
    "#### 7.9 Fetch the model who has got maximum number of Horsepower"
   ]
  },
  {
   "cell_type": "code",
   "execution_count": 18,
   "metadata": {},
   "outputs": [
    {
     "data": {
      "text/plain": [
       "'Viper            '"
      ]
     },
     "execution_count": 18,
     "metadata": {},
     "output_type": "execute_result"
    }
   ],
   "source": [
    "cardf.loc[cardf['Horsepower'].idxmax(),'Model']"
   ]
  },
  {
   "cell_type": "markdown",
   "metadata": {},
   "source": [
    "#### 7.10 Fetch the model and company name who has got maximum mileage with lowest sales figures"
   ]
  },
  {
   "cell_type": "code",
   "execution_count": 19,
   "metadata": {},
   "outputs": [
    {
     "data": {
      "text/plain": [
       "'Mitsubishi   '"
      ]
     },
     "execution_count": 19,
     "metadata": {},
     "output_type": "execute_result"
    }
   ],
   "source": [
    "cardf.loc[(cardf['Fuel efficiency'] / cardf['Sales in thousands']).idxmax(),'Manufacturer']"
   ]
  },
  {
   "cell_type": "markdown",
   "metadata": {},
   "source": [
    "#### 7.11 Fetch the model and company name who has got minimum mileage with highest sales figures."
   ]
  },
  {
   "cell_type": "code",
   "execution_count": 20,
   "metadata": {},
   "outputs": [
    {
     "data": {
      "text/plain": [
       "'Ford         '"
      ]
     },
     "execution_count": 20,
     "metadata": {},
     "output_type": "execute_result"
    }
   ],
   "source": [
    "cardf.loc[(cardf['Fuel efficiency'] / cardf['Sales in thousands']).idxmin(),'Manufacturer']"
   ]
  },
  {
   "cell_type": "markdown",
   "metadata": {},
   "source": [
    "#### 7.12 Fetch the model and company name where the wheel base is maximum with Vehicle type as Car"
   ]
  },
  {
   "cell_type": "code",
   "execution_count": 21,
   "metadata": {},
   "outputs": [
    {
     "data": {
      "text/plain": [
       "Manufacturer        Dodge        \n",
       "Model           Ram Pickup       \n",
       "Name: 40, dtype: object"
      ]
     },
     "execution_count": 21,
     "metadata": {},
     "output_type": "execute_result"
    }
   ],
   "source": [
    "cars = cardf.loc[cardf['Vehicle type'] == 'Car']\n",
    "cars.loc[cars['Wheelbase'].idxmax(),['Manufacturer','Model']]"
   ]
  },
  {
   "cell_type": "markdown",
   "metadata": {},
   "source": [
    "#### 7.13 Fetch the model and company name where the wheel base is minimum with Vehicle type as Passengers"
   ]
  },
  {
   "cell_type": "code",
   "execution_count": 22,
   "metadata": {},
   "outputs": [
    {
     "data": {
      "text/plain": [
       "Manufacturer        Porsche      \n",
       "Model           Carrera Coupe    \n",
       "Name: 125, dtype: object"
      ]
     },
     "execution_count": 22,
     "metadata": {},
     "output_type": "execute_result"
    }
   ],
   "source": [
    "cars = cardf.loc[cardf['Vehicle type'] == 'Passenger']\n",
    "cars.loc[cars['Wheelbase'].idxmin(),['Manufacturer','Model']]"
   ]
  },
  {
   "cell_type": "markdown",
   "metadata": {},
   "source": [
    "#### 7.14 Fetch the model and company name where the curb weight is maximum with maximum mileage"
   ]
  },
  {
   "cell_type": "code",
   "execution_count": 25,
   "metadata": {},
   "outputs": [
    {
     "data": {
      "text/plain": [
       "Manufacturer        Honda        \n",
       "Model           Odyssey          \n",
       "Name: 61, dtype: object"
      ]
     },
     "execution_count": 25,
     "metadata": {},
     "output_type": "execute_result"
    }
   ],
   "source": [
    "cardf.loc[(cardf['Fuel efficiency'] * cardf['Curb weight']).idxmax(),['Manufacturer','Model']]"
   ]
  },
  {
   "cell_type": "markdown",
   "metadata": {},
   "source": [
    "#### 7.15 Fetch the model and company name where the curb weight is minimum with maximum mileage"
   ]
  },
  {
   "cell_type": "code",
   "execution_count": 26,
   "metadata": {},
   "outputs": [
    {
     "data": {
      "text/plain": [
       "Manufacturer        Chevrolet    \n",
       "Model           Metro            \n",
       "Name: 26, dtype: object"
      ]
     },
     "execution_count": 26,
     "metadata": {},
     "output_type": "execute_result"
    }
   ],
   "source": [
    "cardf.loc[(cardf['Curb weight']/cardf['Fuel efficiency']).idxmin(),['Manufacturer','Model']]"
   ]
  },
  {
   "cell_type": "markdown",
   "metadata": {},
   "source": [
    "#### 7.16 Fetch the model and company name where the curb weight is minimum with minimum mileage"
   ]
  },
  {
   "cell_type": "code",
   "execution_count": 27,
   "metadata": {},
   "outputs": [
    {
     "data": {
      "text/plain": [
       "Manufacturer        Jeep         \n",
       "Model           Wrangler         \n",
       "Name: 67, dtype: object"
      ]
     },
     "execution_count": 27,
     "metadata": {},
     "output_type": "execute_result"
    }
   ],
   "source": [
    "cardf.loc[(cardf['Fuel efficiency'] * cardf['Curb weight']).idxmin(),['Manufacturer','Model']]"
   ]
  },
  {
   "cell_type": "markdown",
   "metadata": {},
   "source": [
    "#### 7.17 Change the name of column x_4_year to 4_Year_Resale_Valuea"
   ]
  },
  {
   "cell_type": "code",
   "execution_count": 30,
   "metadata": {},
   "outputs": [
    {
     "data": {
      "text/plain": [
       "Index(['Manufacturer', 'Model', 'Sales in thousands', 'x_4_year',\n",
       "       'Vehicle type', 'Price in thousands', 'Engine size', 'Horsepower',\n",
       "       'Wheelbase', 'Width', 'Length', 'Curb weight', 'Fuel capacity',\n",
       "       'Fuel efficiency', 'Latest Launch', 'XX'],\n",
       "      dtype='object')"
      ]
     },
     "execution_count": 30,
     "metadata": {},
     "output_type": "execute_result"
    }
   ],
   "source": [
    "cardf.columns"
   ]
  },
  {
   "cell_type": "code",
   "execution_count": 31,
   "metadata": {},
   "outputs": [
    {
     "data": {
      "text/plain": [
       "Index(['Manufacturer', 'Model', 'Sales in thousands', '4_Year_Resale_Value',\n",
       "       'Vehicle type', 'Price in thousands', 'Engine size', 'Horsepower',\n",
       "       'Wheelbase', 'Width', 'Length', 'Curb weight', 'Fuel capacity',\n",
       "       'Fuel efficiency', 'Latest Launch', 'XX'],\n",
       "      dtype='object')"
      ]
     },
     "execution_count": 31,
     "metadata": {},
     "output_type": "execute_result"
    }
   ],
   "source": [
    "cardf.rename(columns={'x_4_year':'4_Year_Resale_Value'},inplace=True)\n",
    "cardf.columns"
   ]
  },
  {
   "cell_type": "markdown",
   "metadata": {},
   "source": [
    "#### 7.18 Fetch the model and company name whose sales and Resale Value is Highest"
   ]
  },
  {
   "cell_type": "code",
   "execution_count": 34,
   "metadata": {},
   "outputs": [
    {
     "data": {
      "text/plain": [
       "Manufacturer        Ford         \n",
       "Model           F-Series         \n",
       "Name: 56, dtype: object"
      ]
     },
     "execution_count": 34,
     "metadata": {},
     "output_type": "execute_result"
    }
   ],
   "source": [
    "cardf.loc[(cardf['Sales in thousands'] * cardf['4_Year_Resale_Value']).idxmax(),['Manufacturer','Model']]"
   ]
  },
  {
   "cell_type": "markdown",
   "metadata": {},
   "source": [
    "#### 7.19 Fetch the model and company name whose sales, Mileage and Resale Value is Highest but Price is lowest"
   ]
  },
  {
   "cell_type": "code",
   "execution_count": 37,
   "metadata": {},
   "outputs": [
    {
     "data": {
      "text/plain": [
       "Manufacturer        Ford         \n",
       "Model           Focus            \n",
       "Name: 50, dtype: object"
      ]
     },
     "execution_count": 37,
     "metadata": {},
     "output_type": "execute_result"
    }
   ],
   "source": [
    "cardf.loc[(cardf['Sales in thousands'] * cardf['4_Year_Resale_Value'] * cardf['Fuel efficiency'] / cardf['Price in thousands'])\n",
    "          .idxmax(),['Manufacturer','Model']]"
   ]
  },
  {
   "cell_type": "markdown",
   "metadata": {},
   "source": [
    "#### 7.20 Fethc the model and company name whole resale value is lowest but sale is highest."
   ]
  },
  {
   "cell_type": "code",
   "execution_count": 36,
   "metadata": {},
   "outputs": [
    {
     "data": {
      "text/plain": [
       "Manufacturer        Mitsubishi   \n",
       "Model           3000GT           \n",
       "Name: 83, dtype: object"
      ]
     },
     "execution_count": 36,
     "metadata": {},
     "output_type": "execute_result"
    }
   ],
   "source": [
    "cardf.loc[( cardf['4_Year_Resale_Value'] / cardf['Sales in thousands'] ).idxmax(),['Manufacturer','Model']]"
   ]
  },
  {
   "cell_type": "markdown",
   "metadata": {},
   "source": [
    "#### 7.21 Replace the observations in Sales colum that are greater than the mean of Sales column"
   ]
  },
  {
   "cell_type": "code",
   "execution_count": 38,
   "metadata": {},
   "outputs": [
    {
     "data": {
      "text/plain": [
       "0      16.919\n",
       "1      39.384\n",
       "2      14.114\n",
       "3       8.588\n",
       "4      20.397\n",
       "        ...  \n",
       "152     3.545\n",
       "153    15.245\n",
       "154    17.531\n",
       "155     3.493\n",
       "156    18.969\n",
       "Name: Sales in thousands, Length: 157, dtype: float64"
      ]
     },
     "execution_count": 38,
     "metadata": {},
     "output_type": "execute_result"
    }
   ],
   "source": [
    "cardf['Sales in thousands'].replace(to_replace=cardf[cardf['Sales in thousands'] >cardf['Sales in thousands'].mean()]\n",
    "                                    .loc[:,'Sales in thousands'],value=cardf['Sales in thousands'].mean())"
   ]
  },
  {
   "cell_type": "markdown",
   "metadata": {},
   "source": [
    "#### 7.22 Replace the observations in Price column that are greater than the mean of Price column."
   ]
  },
  {
   "cell_type": "code",
   "execution_count": 39,
   "metadata": {},
   "outputs": [
    {
     "data": {
      "text/plain": [
       "0      21.500000\n",
       "1      27.390755\n",
       "2      27.390755\n",
       "3      27.390755\n",
       "4      23.990000\n",
       "         ...    \n",
       "152    24.400000\n",
       "153    27.390755\n",
       "154    27.390755\n",
       "155    27.390755\n",
       "156    27.390755\n",
       "Name: Price in thousands, Length: 157, dtype: float64"
      ]
     },
     "execution_count": 39,
     "metadata": {},
     "output_type": "execute_result"
    }
   ],
   "source": [
    "cardf['Price in thousands'].replace(to_replace=cardf[cardf['Price in thousands'] >cardf['Price in thousands'].mean()]\n",
    "                                    .loc[:,'Price in thousands'],value=cardf['Price in thousands'].mean())"
   ]
  },
  {
   "cell_type": "markdown",
   "metadata": {},
   "source": [
    "#### 7.23 Replace the observations in Horsepower that are greater than the mean of Horsepower column."
   ]
  },
  {
   "cell_type": "code",
   "execution_count": 40,
   "metadata": {},
   "outputs": [
    {
     "data": {
      "text/plain": [
       "0      140.000000\n",
       "1      185.948718\n",
       "2      185.948718\n",
       "3      185.948718\n",
       "4      150.000000\n",
       "          ...    \n",
       "152    160.000000\n",
       "153    168.000000\n",
       "154    168.000000\n",
       "155    185.948718\n",
       "156    185.948718\n",
       "Name: Horsepower, Length: 157, dtype: float64"
      ]
     },
     "execution_count": 40,
     "metadata": {},
     "output_type": "execute_result"
    }
   ],
   "source": [
    "cardf['Horsepower'].replace(to_replace=cardf[cardf['Horsepower'] >cardf['Horsepower'].mean()]\n",
    "                            .loc[:,'Horsepower'],value=cardf['Horsepower'].mean())"
   ]
  },
  {
   "cell_type": "markdown",
   "metadata": {},
   "source": [
    "#### 9. Create a range of 1 to 100.\n",
    "#### 9.1 Create a matrix of 10 rows and 10 columns\n",
    "#### 9.2 Print the following matrix from the columsn<br>\n",
    "         [47, 48, 49], \n",
    "\ta    [57, 58, 59],\n",
    "\t     [67, 68, 69],\n",
    "\t\n",
    "        [40, 41, 42, 43,]\n",
    "    b   [50, 51, 52, 53,]\n",
    "        [60, 61, 62, 63,]\n",
    "\n",
    "        [32, 33, 34, 35, 36, 37, 38, 39],\n",
    "        [42, 43, 44, 45, 46, 47, 48, 49],\n",
    "    c   [52, 53, 54, 55, 56, 57, 58, 59],\n",
    "        [62, 63, 64, 65, 66, 67, 68, 69],\n",
    "        [72, 73, 74, 75, 76, 77, 78, 79],\n",
    "\n",
    "        [20, 21, 22, 23, 24, 25, 26, 27, 28, 29],\n",
    "    d   [30, 31, 32, 33, 34, 35, 36, 37, 38, 39],\n",
    "        [40, 41, 42, 43, 44, 45, 46, 47, 48, 49],\n",
    "        [50, 51, 52, 53, 54, 55, 56, 57, 58, 59],"
   ]
  },
  {
   "cell_type": "code",
   "execution_count": 41,
   "metadata": {},
   "outputs": [
    {
     "data": {
      "text/plain": [
       "array([  1,   2,   3,   4,   5,   6,   7,   8,   9,  10,  11,  12,  13,\n",
       "        14,  15,  16,  17,  18,  19,  20,  21,  22,  23,  24,  25,  26,\n",
       "        27,  28,  29,  30,  31,  32,  33,  34,  35,  36,  37,  38,  39,\n",
       "        40,  41,  42,  43,  44,  45,  46,  47,  48,  49,  50,  51,  52,\n",
       "        53,  54,  55,  56,  57,  58,  59,  60,  61,  62,  63,  64,  65,\n",
       "        66,  67,  68,  69,  70,  71,  72,  73,  74,  75,  76,  77,  78,\n",
       "        79,  80,  81,  82,  83,  84,  85,  86,  87,  88,  89,  90,  91,\n",
       "        92,  93,  94,  95,  96,  97,  98,  99, 100])"
      ]
     },
     "execution_count": 41,
     "metadata": {},
     "output_type": "execute_result"
    }
   ],
   "source": [
    "x = np.arange(1,101)\n",
    "x"
   ]
  },
  {
   "cell_type": "code",
   "execution_count": 42,
   "metadata": {},
   "outputs": [
    {
     "data": {
      "text/plain": [
       "array([[  1,   2,   3,   4,   5,   6,   7,   8,   9,  10],\n",
       "       [ 11,  12,  13,  14,  15,  16,  17,  18,  19,  20],\n",
       "       [ 21,  22,  23,  24,  25,  26,  27,  28,  29,  30],\n",
       "       [ 31,  32,  33,  34,  35,  36,  37,  38,  39,  40],\n",
       "       [ 41,  42,  43,  44,  45,  46,  47,  48,  49,  50],\n",
       "       [ 51,  52,  53,  54,  55,  56,  57,  58,  59,  60],\n",
       "       [ 61,  62,  63,  64,  65,  66,  67,  68,  69,  70],\n",
       "       [ 71,  72,  73,  74,  75,  76,  77,  78,  79,  80],\n",
       "       [ 81,  82,  83,  84,  85,  86,  87,  88,  89,  90],\n",
       "       [ 91,  92,  93,  94,  95,  96,  97,  98,  99, 100]])"
      ]
     },
     "execution_count": 42,
     "metadata": {},
     "output_type": "execute_result"
    }
   ],
   "source": [
    "y = x.reshape(10,10)\n",
    "y"
   ]
  },
  {
   "cell_type": "code",
   "execution_count": 43,
   "metadata": {},
   "outputs": [
    {
     "data": {
      "text/plain": [
       "array([[47, 48, 49],\n",
       "       [57, 58, 59],\n",
       "       [67, 68, 69]])"
      ]
     },
     "execution_count": 43,
     "metadata": {},
     "output_type": "execute_result"
    }
   ],
   "source": [
    "y[4:7,6:9]"
   ]
  },
  {
   "cell_type": "code",
   "execution_count": 44,
   "metadata": {},
   "outputs": [
    {
     "data": {
      "text/plain": [
       "array([[32, 33, 34, 35, 36, 37, 38, 39],\n",
       "       [42, 43, 44, 45, 46, 47, 48, 49],\n",
       "       [52, 53, 54, 55, 56, 57, 58, 59],\n",
       "       [62, 63, 64, 65, 66, 67, 68, 69],\n",
       "       [72, 73, 74, 75, 76, 77, 78, 79]])"
      ]
     },
     "execution_count": 44,
     "metadata": {},
     "output_type": "execute_result"
    }
   ],
   "source": [
    "y[3:8,1:-1] "
   ]
  },
  {
   "cell_type": "code",
   "execution_count": 45,
   "metadata": {},
   "outputs": [
    {
     "data": {
      "text/plain": [
       "array([[20, 21, 22, 23, 24, 25, 26, 27, 28, 29],\n",
       "       [30, 31, 32, 33, 34, 35, 36, 37, 38, 39],\n",
       "       [40, 41, 42, 43, 44, 45, 46, 47, 48, 49],\n",
       "       [50, 51, 52, 53, 54, 55, 56, 57, 58, 59]])"
      ]
     },
     "execution_count": 45,
     "metadata": {},
     "output_type": "execute_result"
    }
   ],
   "source": [
    "np.array([x[i:i+10] for i in [19,29,39,49]])"
   ]
  },
  {
   "cell_type": "code",
   "execution_count": 46,
   "metadata": {},
   "outputs": [
    {
     "data": {
      "text/plain": [
       "array([[40, 41, 42, 43],\n",
       "       [50, 51, 52, 53],\n",
       "       [60, 61, 62, 63]])"
      ]
     },
     "execution_count": 46,
     "metadata": {},
     "output_type": "execute_result"
    }
   ],
   "source": [
    "np.array([x[i:i+4] for i in [39,49,59]])"
   ]
  }
 ],
 "metadata": {
  "kernelspec": {
   "display_name": "Python 3",
   "language": "python",
   "name": "python3"
  },
  "language_info": {
   "codemirror_mode": {
    "name": "ipython",
    "version": 3
   },
   "file_extension": ".py",
   "mimetype": "text/x-python",
   "name": "python",
   "nbconvert_exporter": "python",
   "pygments_lexer": "ipython3",
   "version": "3.7.4"
  }
 },
 "nbformat": 4,
 "nbformat_minor": 2
}
