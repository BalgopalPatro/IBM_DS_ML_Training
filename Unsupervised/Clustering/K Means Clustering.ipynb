{
 "cells": [
  {
   "cell_type": "code",
   "execution_count": 2,
   "metadata": {},
   "outputs": [],
   "source": [
    "import numpy as np\n",
    "import matplotlib.pyplot as plt\n",
    "import pandas as pd"
   ]
  },
  {
   "cell_type": "code",
   "execution_count": 3,
   "metadata": {},
   "outputs": [
    {
     "data": {
      "text/html": [
       "<div>\n",
       "<style scoped>\n",
       "    .dataframe tbody tr th:only-of-type {\n",
       "        vertical-align: middle;\n",
       "    }\n",
       "\n",
       "    .dataframe tbody tr th {\n",
       "        vertical-align: top;\n",
       "    }\n",
       "\n",
       "    .dataframe thead th {\n",
       "        text-align: right;\n",
       "    }\n",
       "</style>\n",
       "<table border=\"1\" class=\"dataframe\">\n",
       "  <thead>\n",
       "    <tr style=\"text-align: right;\">\n",
       "      <th></th>\n",
       "      <th>CustomerID</th>\n",
       "      <th>Genre</th>\n",
       "      <th>Age</th>\n",
       "      <th>Annual Income (k$)</th>\n",
       "      <th>Spending Score (1-100)</th>\n",
       "    </tr>\n",
       "  </thead>\n",
       "  <tbody>\n",
       "    <tr>\n",
       "      <th>0</th>\n",
       "      <td>1</td>\n",
       "      <td>Male</td>\n",
       "      <td>19</td>\n",
       "      <td>15</td>\n",
       "      <td>39</td>\n",
       "    </tr>\n",
       "    <tr>\n",
       "      <th>1</th>\n",
       "      <td>2</td>\n",
       "      <td>Male</td>\n",
       "      <td>21</td>\n",
       "      <td>15</td>\n",
       "      <td>81</td>\n",
       "    </tr>\n",
       "    <tr>\n",
       "      <th>2</th>\n",
       "      <td>3</td>\n",
       "      <td>Female</td>\n",
       "      <td>20</td>\n",
       "      <td>16</td>\n",
       "      <td>6</td>\n",
       "    </tr>\n",
       "    <tr>\n",
       "      <th>3</th>\n",
       "      <td>4</td>\n",
       "      <td>Female</td>\n",
       "      <td>23</td>\n",
       "      <td>16</td>\n",
       "      <td>77</td>\n",
       "    </tr>\n",
       "    <tr>\n",
       "      <th>4</th>\n",
       "      <td>5</td>\n",
       "      <td>Female</td>\n",
       "      <td>31</td>\n",
       "      <td>17</td>\n",
       "      <td>40</td>\n",
       "    </tr>\n",
       "  </tbody>\n",
       "</table>\n",
       "</div>"
      ],
      "text/plain": [
       "   CustomerID   Genre  Age  Annual Income (k$)  Spending Score (1-100)\n",
       "0           1    Male   19                  15                      39\n",
       "1           2    Male   21                  15                      81\n",
       "2           3  Female   20                  16                       6\n",
       "3           4  Female   23                  16                      77\n",
       "4           5  Female   31                  17                      40"
      ]
     },
     "execution_count": 3,
     "metadata": {},
     "output_type": "execute_result"
    }
   ],
   "source": [
    "df = pd.read_csv('./Mall_Customers.csv')\n",
    "df.head()"
   ]
  },
  {
   "cell_type": "code",
   "execution_count": 4,
   "metadata": {},
   "outputs": [
    {
     "data": {
      "text/plain": [
       "CustomerID                0\n",
       "Genre                     0\n",
       "Age                       0\n",
       "Annual Income (k$)        0\n",
       "Spending Score (1-100)    0\n",
       "dtype: int64"
      ]
     },
     "execution_count": 4,
     "metadata": {},
     "output_type": "execute_result"
    }
   ],
   "source": [
    "df.isnull().sum()"
   ]
  },
  {
   "cell_type": "code",
   "execution_count": 8,
   "metadata": {},
   "outputs": [],
   "source": [
    "x = df.iloc[:,[2,4]].values"
   ]
  },
  {
   "cell_type": "code",
   "execution_count": 11,
   "metadata": {},
   "outputs": [
    {
     "data": {
      "text/plain": [
       "array([[-1.42456879, -0.43480148],\n",
       "       [-1.28103541,  1.19570407],\n",
       "       [-1.3528021 , -1.71591298],\n",
       "       [-1.13750203,  1.04041783],\n",
       "       [-0.56336851, -0.39597992],\n",
       "       [-1.20926872,  1.00159627],\n",
       "       [-0.27630176, -1.71591298],\n",
       "       [-1.13750203,  1.70038436],\n",
       "       [ 1.80493225, -1.83237767],\n",
       "       [-0.6351352 ,  0.84631002],\n",
       "       [ 2.02023231, -1.4053405 ],\n",
       "       [-0.27630176,  1.89449216],\n",
       "       [ 1.37433211, -1.36651894],\n",
       "       [-1.06573534,  1.04041783],\n",
       "       [-0.13276838, -1.44416206],\n",
       "       [-1.20926872,  1.11806095],\n",
       "       [-0.27630176, -0.59008772],\n",
       "       [-1.3528021 ,  0.61338066],\n",
       "       [ 0.94373197, -0.82301709],\n",
       "       [-0.27630176,  1.8556706 ],\n",
       "       [-0.27630176, -0.59008772],\n",
       "       [-0.99396865,  0.88513158],\n",
       "       [ 0.51313183, -1.75473454],\n",
       "       [-0.56336851,  0.88513158],\n",
       "       [ 1.08726535, -1.4053405 ],\n",
       "       [-0.70690189,  1.23452563],\n",
       "       [ 0.44136514, -0.7065524 ],\n",
       "       [-0.27630176,  0.41927286],\n",
       "       [ 0.08253169, -0.74537397],\n",
       "       [-1.13750203,  1.42863343],\n",
       "       [ 1.51786549, -1.7935561 ],\n",
       "       [-1.28103541,  0.88513158],\n",
       "       [ 1.01549866, -1.7935561 ],\n",
       "       [-1.49633548,  1.62274124],\n",
       "       [ 0.7284319 , -1.4053405 ],\n",
       "       [-1.28103541,  1.19570407],\n",
       "       [ 0.22606507, -1.28887582],\n",
       "       [-0.6351352 ,  0.88513158],\n",
       "       [-0.20453507, -0.93948177],\n",
       "       [-1.3528021 ,  0.96277471],\n",
       "       [ 1.87669894, -0.59008772],\n",
       "       [-1.06573534,  1.62274124],\n",
       "       [ 0.65666521, -0.55126616],\n",
       "       [-0.56336851,  0.41927286],\n",
       "       [ 0.7284319 , -0.86183865],\n",
       "       [-1.06573534,  0.5745591 ],\n",
       "       [ 0.80019859,  0.18634349],\n",
       "       [-0.85043527, -0.12422899],\n",
       "       [-0.70690189, -0.3183368 ],\n",
       "       [-0.56336851, -0.3183368 ],\n",
       "       [ 0.7284319 ,  0.06987881],\n",
       "       [-0.41983513,  0.38045129],\n",
       "       [-0.56336851,  0.14752193],\n",
       "       [ 1.4460988 ,  0.38045129],\n",
       "       [ 0.80019859, -0.20187212],\n",
       "       [ 0.58489852, -0.35715836],\n",
       "       [ 0.87196528, -0.00776431],\n",
       "       [ 2.16376569, -0.16305055],\n",
       "       [-0.85043527,  0.03105725],\n",
       "       [ 1.01549866, -0.16305055],\n",
       "       [ 2.23553238,  0.22516505],\n",
       "       [-1.42456879,  0.18634349],\n",
       "       [ 2.02023231,  0.06987881],\n",
       "       [ 1.08726535,  0.34162973],\n",
       "       [ 1.73316556,  0.03105725],\n",
       "       [-1.49633548,  0.34162973],\n",
       "       [ 0.29783176, -0.00776431],\n",
       "       [ 2.091999  , -0.08540743],\n",
       "       [-1.42456879,  0.34162973],\n",
       "       [-0.49160182, -0.12422899],\n",
       "       [ 2.23553238,  0.18634349],\n",
       "       [ 0.58489852, -0.3183368 ],\n",
       "       [ 1.51786549, -0.04658587],\n",
       "       [ 1.51786549,  0.22516505],\n",
       "       [ 1.4460988 , -0.12422899],\n",
       "       [-0.92220196,  0.14752193],\n",
       "       [ 0.44136514,  0.10870037],\n",
       "       [ 0.08253169, -0.08540743],\n",
       "       [-1.13750203,  0.06987881],\n",
       "       [ 0.7284319 , -0.3183368 ],\n",
       "       [ 1.30256542,  0.03105725],\n",
       "       [-0.06100169,  0.18634349],\n",
       "       [ 2.02023231, -0.35715836],\n",
       "       [ 0.51313183, -0.24069368],\n",
       "       [-1.28103541,  0.26398661],\n",
       "       [ 0.65666521, -0.16305055],\n",
       "       [ 1.15903204,  0.30280817],\n",
       "       [-1.20926872,  0.18634349],\n",
       "       [-0.34806844,  0.38045129],\n",
       "       [ 0.80019859, -0.16305055],\n",
       "       [ 2.091999  ,  0.18634349],\n",
       "       [-1.49633548, -0.35715836],\n",
       "       [ 0.65666521, -0.04658587],\n",
       "       [ 0.08253169, -0.39597992],\n",
       "       [-0.49160182, -0.3183368 ],\n",
       "       [-1.06573534,  0.06987881],\n",
       "       [ 0.58489852, -0.12422899],\n",
       "       [-0.85043527, -0.00776431],\n",
       "       [ 0.65666521, -0.3183368 ],\n",
       "       [-1.3528021 , -0.04658587],\n",
       "       [-1.13750203, -0.35715836],\n",
       "       [ 0.7284319 , -0.08540743],\n",
       "       [ 2.02023231,  0.34162973],\n",
       "       [-0.92220196,  0.18634349],\n",
       "       [ 0.7284319 ,  0.22516505],\n",
       "       [-1.28103541, -0.3183368 ],\n",
       "       [ 1.94846562, -0.00776431],\n",
       "       [ 1.08726535, -0.16305055],\n",
       "       [ 2.091999  , -0.27951524],\n",
       "       [ 1.94846562, -0.08540743],\n",
       "       [ 1.87669894,  0.06987881],\n",
       "       [-1.42456879,  0.14752193],\n",
       "       [-0.06100169, -0.3183368 ],\n",
       "       [-1.42456879, -0.16305055],\n",
       "       [-1.49633548, -0.08540743],\n",
       "       [-1.42456879, -0.00776431],\n",
       "       [ 1.73316556, -0.27951524],\n",
       "       [ 0.7284319 ,  0.34162973],\n",
       "       [ 0.87196528, -0.27951524],\n",
       "       [ 0.80019859,  0.26398661],\n",
       "       [-0.85043527,  0.22516505],\n",
       "       [-0.06100169, -0.39597992],\n",
       "       [ 0.08253169,  0.30280817],\n",
       "       [ 0.010765  ,  1.58391968],\n",
       "       [-1.13750203, -0.82301709],\n",
       "       [-0.56336851,  1.04041783],\n",
       "       [ 0.29783176, -0.59008772],\n",
       "       [ 0.08253169,  1.73920592],\n",
       "       [ 1.4460988 , -1.52180518],\n",
       "       [-0.06100169,  0.96277471],\n",
       "       [ 0.58489852, -1.5994483 ],\n",
       "       [ 0.010765  ,  0.96277471],\n",
       "       [-0.99396865, -0.62890928],\n",
       "       [-0.56336851,  0.80748846],\n",
       "       [-1.3528021 , -1.75473454],\n",
       "       [-0.70690189,  1.46745499],\n",
       "       [ 0.36959845, -1.67709142],\n",
       "       [-0.49160182,  0.88513158],\n",
       "       [-1.42456879, -1.56062674],\n",
       "       [-0.27630176,  0.84631002],\n",
       "       [ 1.30256542, -1.75473454],\n",
       "       [-0.49160182,  1.6615628 ],\n",
       "       [-0.77866858, -0.39597992],\n",
       "       [-0.49160182,  1.42863343],\n",
       "       [-0.99396865, -1.48298362],\n",
       "       [-0.77866858,  1.81684904],\n",
       "       [ 0.65666521, -0.55126616],\n",
       "       [-0.49160182,  0.92395314],\n",
       "       [-0.34806844, -1.09476801],\n",
       "       [-0.34806844,  1.54509812],\n",
       "       [ 0.29783176, -1.28887582],\n",
       "       [ 0.010765  ,  1.46745499],\n",
       "       [ 0.36959845, -1.17241113],\n",
       "       [-0.06100169,  1.00159627],\n",
       "       [ 0.58489852, -1.32769738],\n",
       "       [-0.85043527,  1.50627656],\n",
       "       [-0.13276838, -1.91002079],\n",
       "       [-0.6351352 ,  1.07923939],\n",
       "       [-0.34806844, -1.91002079],\n",
       "       [-0.6351352 ,  0.88513158],\n",
       "       [ 1.23079873, -0.59008772],\n",
       "       [-0.70690189,  1.27334719],\n",
       "       [-1.42456879, -1.75473454],\n",
       "       [-0.56336851,  1.6615628 ],\n",
       "       [ 0.80019859, -0.93948177],\n",
       "       [-0.20453507,  0.96277471],\n",
       "       [ 0.22606507, -1.17241113],\n",
       "       [-0.41983513,  1.73920592],\n",
       "       [-0.20453507, -0.90066021],\n",
       "       [-0.49160182,  0.49691598],\n",
       "       [ 0.08253169, -1.44416206],\n",
       "       [-0.77866858,  0.96277471],\n",
       "       [-0.20453507, -1.56062674],\n",
       "       [-0.20453507,  1.62274124],\n",
       "       [ 0.94373197, -1.44416206],\n",
       "       [-0.6351352 ,  1.38981187],\n",
       "       [ 1.37433211, -1.36651894],\n",
       "       [-0.85043527,  0.72984534],\n",
       "       [ 1.4460988 , -1.4053405 ],\n",
       "       [-0.27630176,  1.54509812],\n",
       "       [-0.13276838, -0.7065524 ],\n",
       "       [-0.49160182,  1.38981187],\n",
       "       [ 0.51313183, -1.36651894],\n",
       "       [-0.70690189,  1.46745499],\n",
       "       [ 0.15429838, -0.43480148],\n",
       "       [-0.6351352 ,  1.81684904],\n",
       "       [ 1.08726535, -1.01712489],\n",
       "       [-0.77866858,  0.69102378],\n",
       "       [ 0.15429838, -1.28887582],\n",
       "       [-0.20453507,  1.35099031],\n",
       "       [-0.34806844, -1.05594645],\n",
       "       [-0.49160182,  0.72984534],\n",
       "       [-0.41983513, -1.63826986],\n",
       "       [-0.06100169,  1.58391968],\n",
       "       [ 0.58489852, -1.32769738],\n",
       "       [-0.27630176,  1.11806095],\n",
       "       [ 0.44136514, -0.86183865],\n",
       "       [-0.49160182,  0.92395314],\n",
       "       [-0.49160182, -1.25005425],\n",
       "       [-0.6351352 ,  1.27334719]])"
      ]
     },
     "execution_count": 11,
     "metadata": {},
     "output_type": "execute_result"
    }
   ],
   "source": [
    "from sklearn.preprocessing import StandardScaler\n",
    "sc=StandardScaler()\n",
    "x=sc.fit_transform(x)\n",
    "x"
   ]
  },
  {
   "cell_type": "code",
   "execution_count": 13,
   "metadata": {},
   "outputs": [
    {
     "data": {
      "image/png": "[encoded data removed]",
      "text/plain": [
       "<Figure size 432x288 with 1 Axes>"
      ]
     },
     "metadata": {
      "needs_background": "light"
     },
     "output_type": "display_data"
    }
   ],
   "source": [
    "from sklearn.cluster import KMeans\n",
    "wcss = []\n",
    "for i in range(1, 11):\n",
    "    kmeans = KMeans(n_clusters = i,random_state = 42)\n",
    "    kmeans.fit(x)\n",
    "    wcss.append(kmeans.inertia_)\n",
    "plt.plot(range(1, 11), wcss,marker=\"o\")\n",
    "plt.title('The Elbow Method')\n",
    "plt.xlabel('Number of clusters')\n",
    "plt.ylabel('WCSS')\n",
    "plt.show()"
   ]
  },
  {
   "cell_type": "code",
   "execution_count": 38,
   "metadata": {},
   "outputs": [],
   "source": [
    "kmeans = KMeans(n_clusters = 4, random_state = 42)\n",
    "y_kmeans = kmeans.fit_predict(x)"
   ]
  },
  {
   "cell_type": "code",
   "execution_count": 39,
   "metadata": {},
   "outputs": [
    {
     "data": {
      "text/plain": [
       "array([3, 1, 3, 1, 3, 1, 0, 1, 0, 1, 0, 1, 0, 1, 0, 1, 3, 1, 0, 1, 3, 1,\n",
       "       0, 1, 0, 1, 0, 1, 0, 1, 0, 1, 0, 1, 0, 1, 0, 1, 3, 1, 2, 1, 2, 1,\n",
       "       0, 1, 2, 3, 3, 3, 2, 1, 3, 2, 2, 2, 2, 2, 3, 2, 2, 3, 2, 2, 2, 3,\n",
       "       2, 2, 3, 3, 2, 2, 2, 2, 2, 3, 2, 3, 3, 2, 2, 3, 2, 2, 3, 2, 2, 3,\n",
       "       1, 2, 2, 3, 2, 3, 3, 3, 2, 3, 2, 3, 3, 2, 2, 3, 2, 3, 2, 2, 2, 2,\n",
       "       2, 3, 3, 3, 3, 3, 2, 2, 2, 2, 3, 3, 1, 1, 3, 1, 0, 1, 0, 1, 0, 1,\n",
       "       3, 1, 3, 1, 0, 1, 3, 1, 0, 1, 3, 1, 3, 1, 2, 1, 3, 1, 0, 1, 0, 1,\n",
       "       0, 1, 0, 1, 0, 1, 2, 1, 3, 1, 0, 1, 0, 1, 3, 1, 0, 1, 0, 1, 0, 1,\n",
       "       0, 1, 0, 1, 3, 1, 0, 1, 3, 1, 0, 1, 0, 1, 3, 1, 0, 1, 0, 1, 0, 1,\n",
       "       3, 1])"
      ]
     },
     "execution_count": 39,
     "metadata": {},
     "output_type": "execute_result"
    }
   ],
   "source": [
    "y_kmeans"
   ]
  },
  {
   "cell_type": "code",
   "execution_count": 40,
   "metadata": {},
   "outputs": [
    {
     "data": {
      "text/plain": [
       "array([[ 0.62833625, -1.36651894],\n",
       "       [-0.61415725,  1.14971545],\n",
       "       [ 1.22927178, -0.06558366],\n",
       "       [-0.8346466 , -0.39442706]])"
      ]
     },
     "execution_count": 40,
     "metadata": {},
     "output_type": "execute_result"
    }
   ],
   "source": [
    "kmeans.cluster_centers_"
   ]
  },
  {
   "cell_type": "code",
   "execution_count": 41,
   "metadata": {},
   "outputs": [
    {
     "data": {
      "text/plain": [
       "<matplotlib.collections.PathCollection at 0x1dadb1e3bb0>"
      ]
     },
     "execution_count": 41,
     "metadata": {},
     "output_type": "execute_result"
    },
    {
     "data": {
      "image/png": "[encoded data removed]",
      "text/plain": [
       "<Figure size 432x288 with 1 Axes>"
      ]
     },
     "metadata": {
      "needs_background": "light"
     },
     "output_type": "display_data"
    }
   ],
   "source": [
    "plt.scatter(x[:,0],x[:,1])"
   ]
  },
  {
   "cell_type": "code",
   "execution_count": 54,
   "metadata": {},
   "outputs": [
    {
     "data": {
      "image/png": "[encoded data removed]",
      "text/plain": [
       "<Figure size 432x288 with 1 Axes>"
      ]
     },
     "metadata": {
      "needs_background": "light"
     },
     "output_type": "display_data"
    }
   ],
   "source": [
    "plt.scatter(x[y_kmeans == 0, 0], x[y_kmeans == 0, 1], s = 50, c = 'red', label = 'Cluster 1')\n",
    "plt.scatter(x[y_kmeans == 1, 0], x[y_kmeans == 1, 1], s = 50, c = 'blue', label = 'Cluster 2')\n",
    "plt.scatter(x[y_kmeans == 2, 0], x[y_kmeans == 2, 1], s = 50, c = 'green', label = 'Cluster 3')\n",
    "plt.scatter(x[y_kmeans == 3, 0], x[y_kmeans == 3, 1], s = 50, c = 'm', label = 'Cluster 3')\n",
    "plt.scatter(kmeans.cluster_centers_[:, 0], kmeans.cluster_centers_[:, 1], s = 300, c = 'yellow', label = 'Centroids')\n",
    "plt.title('Clusters of customers')\n",
    "plt.xlabel('Age')\n",
    "plt.ylabel('Spending Score (1-100)')\n",
    "plt.legend()\n",
    "plt.show()"
   ]
  },
  {
   "cell_type": "code",
   "execution_count": null,
   "metadata": {},
   "outputs": [],
   "source": [
    "ce"
   ]
  }
 ],
 "metadata": {
  "kernelspec": {
   "display_name": "Python 3.8.3",
   "language": "python",
   "name": "python3"
  },
  "language_info": {
   "codemirror_mode": {
    "name": "ipython",
    "version": 3
   },
   "file_extension": ".py",
   "mimetype": "text/x-python",
   "name": "python",
   "nbconvert_exporter": "python",
   "pygments_lexer": "ipython3",
   "version": "3.8.3"
  }
 },
 "nbformat": 4,
 "nbformat_minor": 4
}
